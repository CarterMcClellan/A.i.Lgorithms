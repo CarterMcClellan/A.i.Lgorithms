{
 "cells": [
  {
   "cell_type": "markdown",
   "metadata": {},
   "source": [
    "# First Attention Blocks\n",
    "\n",
    "## Before\n",
    "In **Transformers 1 - Before Attention** each forward pass went as \n",
    "```python\n",
    "y, s = '<s>', encoder(x)\n",
    "for _ in range(N):\n",
    "    y, s = decoder(y, s)\n",
    "```\n",
    "\n",
    "## With Attention\n",
    "**pseudo code**\n",
    "\n",
    "\n",
    "```python\n",
    "# Encoding Stage (inp_vec (x) -> hidden_states)\n",
    "hidden_states, s = encoder(x)\n",
    "\n",
    "# Decoding Stage(s)\n",
    "\n",
    "# 1) computing the attention weights\n",
    "alignment_scores = []\n",
    "for h_i in hidden_states:\n",
    "    e_i = f_att(s, h_i)\n",
    "    alignment_scores.append(e_i)\n",
    "    \n",
    "attention_weights = F.softmax(alignment_scores)\n",
    "\n",
    "# 2) computing the context vector\n",
    "c = torch.zeros(1, hidden_dim)\n",
    "for a_i, h_i in zip(attention_weights, hidden_states):\n",
    "    c += a_i * h_i\n",
    "    \n",
    "# 3) decoding\n",
    "y = '<s>'\n",
    "y, s = decoder(y, c)\n",
    "```\n"
   ]
  },
  {
   "cell_type": "markdown",
   "metadata": {},
   "source": [
    "## Imports"
   ]
  },
  {
   "cell_type": "code",
   "execution_count": 1,
   "metadata": {},
   "outputs": [],
   "source": [
    "# Standard Lib\n",
    "import os\n",
    "import math\n",
    "import random\n",
    "from time import time\n",
    "from pathlib import Path\n",
    "\n",
    "# Visualization\n",
    "import matplotlib.pyplot as plt\n",
    "\n",
    "# Tokenization\n",
    "import spacy \n",
    "\n",
    "# Loading Bar\n",
    "from tqdm import tqdm\n",
    "\n",
    "# Torch Imports\n",
    "import torch\n",
    "import torch.nn as nn\n",
    "import torch.optim as optim\n",
    "import torch.nn.functional as F\n",
    "\n",
    "# Dataloader Custom Module\n",
    "from sample_dataloader import get_dataloaders"
   ]
  },
  {
   "cell_type": "markdown",
   "metadata": {},
   "source": [
    "## Constants"
   ]
  },
  {
   "cell_type": "code",
   "execution_count": 2,
   "metadata": {},
   "outputs": [],
   "source": [
    "data_root = os.path.join(Path(os.getcwd()).parent.parent.parent, \"Datasets/\")\n",
    "gpu = torch.device(\"cuda:0\")"
   ]
  },
  {
   "cell_type": "code",
   "execution_count": 3,
   "metadata": {},
   "outputs": [],
   "source": [
    "# !python -m spacy download en_core_web_sm\n",
    "# !python -m spacy download de_core_news_sm"
   ]
  },
  {
   "cell_type": "markdown",
   "metadata": {},
   "source": [
    "## Datasets"
   ]
  },
  {
   "cell_type": "code",
   "execution_count": 4,
   "metadata": {},
   "outputs": [],
   "source": [
    "trainset, validset, testset, de_vocab, en_vocab = get_dataloaders(batch_size=128, device=gpu, data_root=data_root)"
   ]
  },
  {
   "cell_type": "code",
   "execution_count": 5,
   "metadata": {},
   "outputs": [],
   "source": [
    "# all these indices are the same for french and english\n",
    "PAD_IDX = de_vocab['<pad>']\n",
    "SOS_IDX = de_vocab['<sos>']\n",
    "EOS_IDX = de_vocab['<eos>']"
   ]
  },
  {
   "cell_type": "markdown",
   "metadata": {},
   "source": [
    "## Model Architecture"
   ]
  },
  {
   "cell_type": "code",
   "execution_count": 23,
   "metadata": {},
   "outputs": [],
   "source": [
    "class Encoder(nn.Module):\n",
    "    def __init__(self, inp_vocab_len, num_features, num_hidden, num_layers, dropout):\n",
    "        \"\"\"\n",
    "        Inputs:\n",
    "            (encoder lstm params)\n",
    "                num_hidden_features: The number of features in the hidden state h\n",
    "                num_encoder_layers: The number of layers in the lstm\n",
    "                dropout: the probability of dropout\n",
    "\n",
    "            (embedding params)\n",
    "                inp_vocab_len: The size of the dictionary of embeddings\n",
    "                num_features: The size of each embedding vector\n",
    "\n",
    "            (regularization)\n",
    "                dropout\n",
    "        \"\"\"\n",
    "        super().__init__()\n",
    "        \n",
    "        self.embedding = nn.Embedding(num_embeddings=inp_vocab_len, \n",
    "                                      embedding_dim=num_features)\n",
    "        self.dropout = nn.Dropout(dropout)\n",
    "        \n",
    "        self.lstm = nn.LSTM(input_size=num_features, \n",
    "                            hidden_size=num_hidden, \n",
    "                            num_layers=num_layers,\n",
    "                            dropout=dropout)\n",
    "    \n",
    "    def forward(self, x):\n",
    "        \"\"\"\n",
    "        Input:\n",
    "            (x) \n",
    "                (description): an encoded german sentence\n",
    "                (shape): [1, number of tokens, batch size]\n",
    "        \n",
    "        Output:\n",
    "            (hidden_states)\n",
    "                tensor containing the output features (h_t) from the last layer of the LSTM, for each t\n",
    "            (h_t)\n",
    "                tensor containing the hidden state for t = seq_len\n",
    "            (c_t)\n",
    "                tensor containing the cell state for t = seq_len.\n",
    "        \"\"\"\n",
    "        embedding = self.dropout(self.embedding(x))\n",
    "        hidden_states, (h_t, c_t) = self.lstm(embedding)\n",
    "        \n",
    "        # our lstm is bi-directional\n",
    "        # so we concat the forward and the backward\n",
    "        # hidden [-2, :, : ] is the last of the forwards RNN \n",
    "        # hidden [-1, :, : ] is the last of the backwards RNN\n",
    "        h_t = torch.cat((h_t[0], h_t[1]), dim=1)\n",
    "        \n",
    "        return hidden_states, (h_t, c_t)"
   ]
  },
  {
   "cell_type": "code",
   "execution_count": 7,
   "metadata": {},
   "outputs": [],
   "source": [
    "class Attention(nn.Module):\n",
    "    def __init__(self, decoder_hidden_size, encoder_hidden_size):\n",
    "        super().__init__()\n",
    "        \n",
    "        # why (decoder_hidden_state * 2)?\n",
    "        #     our lstm is actually bidirectional, so in the previous step \n",
    "        #     we concatenate the hidden_state forward of the last layer\n",
    "        #     to the hidden_state backward of the last layer effectively \n",
    "        #     duplicating the number of features\n",
    "        self.compressed = nn.Linear((decoder_hidden_size * 2), decoder_hidden_size)\n",
    "        \n",
    "        self.attn_out = nn.Linear\n",
    "    \n",
    "    def forward(self, s, encoder_outputs):\n",
    "        \"\"\"\n",
    "        Input:\n",
    "            (s)\n",
    "                description: current decoder hidden state\n",
    "                \n",
    "            (encoder_outputs)\n",
    "                description: tensor containing the output features (h_t) from the last layer of the LSTM, for each t\n",
    "                \n",
    "        Method Overview:\n",
    "            We are trying to assign weights to the encoder outputs!\n",
    "            to do this we are going to pass a large matrix\n",
    "            into a linear layer (f_att), then output scalars\n",
    "\n",
    "            the input for our linear layer should be of the shape\n",
    "            (batch_size, seq_len, enc_hidden_size + dec_hidden_size)\n",
    "            \n",
    "        \"\"\"\n",
    "        # get sequence length\n",
    "        seq_len = encoder_outputs.shape[0]\n",
    "        \n",
    "        # convert \n",
    "        # s [batch_size, decoder_hidden_state * 2] -> [batch_size, decoder_hidden_state]\n",
    "        compressed_s = self.compressed(s)\n",
    "        \n",
    "        # duplicate decoder hidden state\n",
    "        # s [batch_size, encoder_hidden_state * 2] -> [seq_len, batch_size, encoder_hidden_state * 2]\n",
    "        s = s.unsqueeze(1).repeat(1, seq_len, 1)\n",
    "        \n",
    "        # reshape encoder outputs to be same as decoder hidden\n",
    "        # encoder_outputs [seq_len, batch_size, encoder_hidden_state]\n",
    "        encoder_outputs = encoder_outputs.permute(1, 0, 2)\n",
    "        \n",
    "        # notice how we are concatenating along the third dimension\n",
    "        # as expected above\n",
    "        concatenated_inputs = torch.cat((s, encoder_outputs), dim = 2)\n",
    "                               \n",
    "        # note: there is one encoder output for every token in the sequence\n",
    "        alignment_scores = self.att_out(concatenated_inputs)\n",
    "        \n",
    "        # compute attention weights\n",
    "        return F.softmax(alignment_scores)"
   ]
  },
  {
   "cell_type": "code",
   "execution_count": 8,
   "metadata": {},
   "outputs": [],
   "source": [
    "class Decoder(nn.Module):\n",
    "    def __init__(self, trg_vocab_len, num_features, num_hidden, num_layers, dropout, attention):\n",
    "        super().__init__()\n",
    "        \n",
    "        self.num_hidden = num_hidden\n",
    "        \n",
    "        self.embedding = nn.Embedding(num_embeddings=trg_vocab_len, \n",
    "                                      embedding_dim=num_features)\n",
    "        self.dropout = nn.Dropout(dropout)\n",
    "        \n",
    "        # attention block\n",
    "        self.attention = attention\n",
    "        \n",
    "        # Decoder\n",
    "        self.lstm = nn.LSTM(input_size=num_features, \n",
    "                            hidden_size=num_hidden, \n",
    "                            num_layers=num_layers,\n",
    "                            dropout=dropout)\n",
    "        # self.fc_out = nn.Linear()\n",
    "    \n",
    "    def forward(self, x, s, cell, encoder_outputs):\n",
    "        \"\"\"\n",
    "        Input\n",
    "            (x)\n",
    "                (description): the previous token\n",
    "                (shape): [batch_size]\n",
    "                \n",
    "            (s)\n",
    "                (description): current decoder hidden state\n",
    "                (shape): [num_layers, batch_size, embedding_dim]\n",
    "                \n",
    "            (cell)\n",
    "                (description): current cell state\n",
    "                (shape): [num_layers, batch_size, embedding_dim]\n",
    "                \n",
    "            (encoder outputs) \n",
    "                (description): tensor containing the output features (h_t) from the last layer of the LSTM, for each t\n",
    "                (shape): [token_seq_len, batch_size, embedding_dim]\n",
    "        \"\"\"\n",
    "        embedding = self.dropout(self.embedding(x))\n",
    "        \n",
    "        # embedding [batch_size, num_features] -> [1, batch_size, num_features]\n",
    "        embedding = embedding.unsqueeze(0)\n",
    "        \n",
    "        # attention [batch_size, seq_len, 1]\n",
    "        attention_weights = self.attention(s, encoder_outputs)\n",
    "        \n",
    "        # permute inputs for batch matrix mul\n",
    "        # attention_weights [batch_size, seq_len, 1] -> [batch_size, 1, seq_len]\n",
    "        attention_weights = attention_weights.permute(0, 2, 1)\n",
    "        \n",
    "        # encoder_outputs [seq_len, batch_size, hidden_size] -> [batch_size, seq_len, hidden_size] \n",
    "        encoder_outputs = encoder_outputs.permute(1, 0, 2)\n",
    "        \n",
    "        # If input is a (b×n×m) tensor, mat2 is a (b×m×p) tensor, out will be a (b×n×p) tensor.\n",
    "        context_vector = torch.bmm(attention_weights, encoder_outputs)\n",
    "        \n",
    "        context_vector = context_vector.view(128, self.num_hidden)\n",
    "\n",
    "        # decoding\n",
    "        # shape (num_layers * num_directions, batch, hidden_size)\n",
    "        output, (s, cell) = self.lstm(embedding, (context_vector, cell))\n",
    "        \n",
    "        # prediction = self.fc_out(output)\n",
    "        return output"
   ]
  },
  {
   "cell_type": "code",
   "execution_count": 9,
   "metadata": {},
   "outputs": [],
   "source": [
    "class Seq2Seq(nn.Module):\n",
    "    def __init__(self, encoder, decoder):\n",
    "        super().__init()\n",
    "    \n",
    "    def forward(self, x):\n",
    "        outputs = torch.zeros(trg_len, batch_size, self.trg_vocab_size).to(self.device)\n",
    "        \n",
    "        encoder_outputs, s, c_t = self.encoder(src)\n",
    "        \n",
    "        # this shoud just be replaced with <s> or whatever our start token is\n",
    "        x = trg[0,:]\n",
    "        \n",
    "        for t in range(1, trg_len):\n",
    "            prediction, s, cell = self.decoder(x, s, cell, encoder_outputs)\n",
    "            \n",
    "            outputs[t] = output\n",
    "            \n",
    "            # decide if we are going to use teacher forcing or not\n",
    "            teacher_force = random.random() < teacher_forcing_ratio\n",
    "            \n",
    "            top1 = output.argmax(1) \n",
    "    \n",
    "            x = trg[t] if teacher_force else top1\n",
    "        \n",
    "        return outputs"
   ]
  },
  {
   "cell_type": "markdown",
   "metadata": {},
   "source": [
    "### Initialization + Number of Params"
   ]
  },
  {
   "cell_type": "code",
   "execution_count": 10,
   "metadata": {},
   "outputs": [],
   "source": [
    "inp_vocab_len = len(de_vocab)\n",
    "trg_vocab_len = len(en_vocab)\n",
    "num_features = 256\n",
    "num_hidden = 512\n",
    "num_layers = 2\n",
    "dropout = .5\n",
    "\n",
    "enc = Encoder(inp_vocab_len=inp_vocab_len,\n",
    "              num_features=num_features,\n",
    "              num_hidden=num_hidden,\n",
    "              num_layers=num_layers,\n",
    "              dropout=dropout).to(gpu)\n",
    "\n",
    "attn = Attention(decoder_hidden_size=num_hidden, \n",
    "                 encoder_hidden_size=num_hidden).to(gpu)\n",
    "\n",
    "dec = Decoder(trg_vocab_len=trg_vocab_len,\n",
    "              num_features=num_features,\n",
    "              num_hidden=num_hidden,\n",
    "              num_layers=num_layers,\n",
    "              dropout=dropout,\n",
    "              attention=attn).to(gpu)\n",
    "# model = Seq2Seq(enc, dec, gpu, OUTPUT_DIM).to(gpu)"
   ]
  },
  {
   "cell_type": "code",
   "execution_count": 11,
   "metadata": {},
   "outputs": [
    {
     "ename": "RuntimeError",
     "evalue": "Number of dimensions of repeat dims can not be smaller than number of dimensions of tensor",
     "output_type": "error",
     "traceback": [
      "\u001b[0;31m---------------------------------------------------------------------------\u001b[0m",
      "\u001b[0;31mRuntimeError\u001b[0m                              Traceback (most recent call last)",
      "\u001b[0;32m<ipython-input-11-b7f4f59570a7>\u001b[0m in \u001b[0;36m<module>\u001b[0;34m\u001b[0m\n\u001b[1;32m      3\u001b[0m \u001b[0mencoder_outputs\u001b[0m\u001b[0;34m,\u001b[0m \u001b[0;34m(\u001b[0m\u001b[0mh_t\u001b[0m\u001b[0;34m,\u001b[0m \u001b[0mc_t\u001b[0m\u001b[0;34m)\u001b[0m \u001b[0;34m=\u001b[0m \u001b[0menc\u001b[0m\u001b[0;34m(\u001b[0m\u001b[0mval\u001b[0m\u001b[0;34m.\u001b[0m\u001b[0msrc\u001b[0m\u001b[0;34m)\u001b[0m\u001b[0;34m\u001b[0m\u001b[0;34m\u001b[0m\u001b[0m\n\u001b[1;32m      4\u001b[0m \u001b[0mx\u001b[0m \u001b[0;34m=\u001b[0m \u001b[0mtrg\u001b[0m\u001b[0;34m[\u001b[0m\u001b[0;36m0\u001b[0m\u001b[0;34m,\u001b[0m\u001b[0;34m:\u001b[0m\u001b[0;34m]\u001b[0m\u001b[0;34m\u001b[0m\u001b[0;34m\u001b[0m\u001b[0m\n\u001b[0;32m----> 5\u001b[0;31m \u001b[0moutput\u001b[0m \u001b[0;34m=\u001b[0m \u001b[0mdec\u001b[0m\u001b[0;34m(\u001b[0m\u001b[0mx\u001b[0m\u001b[0;34m,\u001b[0m \u001b[0mh_t\u001b[0m\u001b[0;34m,\u001b[0m \u001b[0mc_t\u001b[0m\u001b[0;34m,\u001b[0m \u001b[0mencoder_outputs\u001b[0m\u001b[0;34m)\u001b[0m\u001b[0;34m\u001b[0m\u001b[0;34m\u001b[0m\u001b[0m\n\u001b[0m",
      "\u001b[0;32m~/anaconda3/lib/python3.7/site-packages/torch/nn/modules/module.py\u001b[0m in \u001b[0;36m_call_impl\u001b[0;34m(self, *input, **kwargs)\u001b[0m\n\u001b[1;32m    887\u001b[0m             \u001b[0mresult\u001b[0m \u001b[0;34m=\u001b[0m \u001b[0mself\u001b[0m\u001b[0;34m.\u001b[0m\u001b[0m_slow_forward\u001b[0m\u001b[0;34m(\u001b[0m\u001b[0;34m*\u001b[0m\u001b[0minput\u001b[0m\u001b[0;34m,\u001b[0m \u001b[0;34m**\u001b[0m\u001b[0mkwargs\u001b[0m\u001b[0;34m)\u001b[0m\u001b[0;34m\u001b[0m\u001b[0;34m\u001b[0m\u001b[0m\n\u001b[1;32m    888\u001b[0m         \u001b[0;32melse\u001b[0m\u001b[0;34m:\u001b[0m\u001b[0;34m\u001b[0m\u001b[0;34m\u001b[0m\u001b[0m\n\u001b[0;32m--> 889\u001b[0;31m             \u001b[0mresult\u001b[0m \u001b[0;34m=\u001b[0m \u001b[0mself\u001b[0m\u001b[0;34m.\u001b[0m\u001b[0mforward\u001b[0m\u001b[0;34m(\u001b[0m\u001b[0;34m*\u001b[0m\u001b[0minput\u001b[0m\u001b[0;34m,\u001b[0m \u001b[0;34m**\u001b[0m\u001b[0mkwargs\u001b[0m\u001b[0;34m)\u001b[0m\u001b[0;34m\u001b[0m\u001b[0;34m\u001b[0m\u001b[0m\n\u001b[0m\u001b[1;32m    890\u001b[0m         for hook in itertools.chain(\n\u001b[1;32m    891\u001b[0m                 \u001b[0m_global_forward_hooks\u001b[0m\u001b[0;34m.\u001b[0m\u001b[0mvalues\u001b[0m\u001b[0;34m(\u001b[0m\u001b[0;34m)\u001b[0m\u001b[0;34m,\u001b[0m\u001b[0;34m\u001b[0m\u001b[0;34m\u001b[0m\u001b[0m\n",
      "\u001b[0;32m<ipython-input-8-75d426399c04>\u001b[0m in \u001b[0;36mforward\u001b[0;34m(self, x, s, cell, encoder_outputs)\u001b[0m\n\u001b[1;32m     44\u001b[0m \u001b[0;34m\u001b[0m\u001b[0m\n\u001b[1;32m     45\u001b[0m         \u001b[0;31m# attention [batch_size, seq_len, 1]\u001b[0m\u001b[0;34m\u001b[0m\u001b[0;34m\u001b[0m\u001b[0;34m\u001b[0m\u001b[0m\n\u001b[0;32m---> 46\u001b[0;31m         \u001b[0mattention_weights\u001b[0m \u001b[0;34m=\u001b[0m \u001b[0mself\u001b[0m\u001b[0;34m.\u001b[0m\u001b[0mattention\u001b[0m\u001b[0;34m(\u001b[0m\u001b[0ms\u001b[0m\u001b[0;34m,\u001b[0m \u001b[0mencoder_outputs\u001b[0m\u001b[0;34m)\u001b[0m\u001b[0;34m\u001b[0m\u001b[0;34m\u001b[0m\u001b[0m\n\u001b[0m\u001b[1;32m     47\u001b[0m \u001b[0;34m\u001b[0m\u001b[0m\n\u001b[1;32m     48\u001b[0m         \u001b[0;31m# permute inputs for batch matrix mul\u001b[0m\u001b[0;34m\u001b[0m\u001b[0;34m\u001b[0m\u001b[0;34m\u001b[0m\u001b[0m\n",
      "\u001b[0;32m~/anaconda3/lib/python3.7/site-packages/torch/nn/modules/module.py\u001b[0m in \u001b[0;36m_call_impl\u001b[0;34m(self, *input, **kwargs)\u001b[0m\n\u001b[1;32m    887\u001b[0m             \u001b[0mresult\u001b[0m \u001b[0;34m=\u001b[0m \u001b[0mself\u001b[0m\u001b[0;34m.\u001b[0m\u001b[0m_slow_forward\u001b[0m\u001b[0;34m(\u001b[0m\u001b[0;34m*\u001b[0m\u001b[0minput\u001b[0m\u001b[0;34m,\u001b[0m \u001b[0;34m**\u001b[0m\u001b[0mkwargs\u001b[0m\u001b[0;34m)\u001b[0m\u001b[0;34m\u001b[0m\u001b[0;34m\u001b[0m\u001b[0m\n\u001b[1;32m    888\u001b[0m         \u001b[0;32melse\u001b[0m\u001b[0;34m:\u001b[0m\u001b[0;34m\u001b[0m\u001b[0;34m\u001b[0m\u001b[0m\n\u001b[0;32m--> 889\u001b[0;31m             \u001b[0mresult\u001b[0m \u001b[0;34m=\u001b[0m \u001b[0mself\u001b[0m\u001b[0;34m.\u001b[0m\u001b[0mforward\u001b[0m\u001b[0;34m(\u001b[0m\u001b[0;34m*\u001b[0m\u001b[0minput\u001b[0m\u001b[0;34m,\u001b[0m \u001b[0;34m**\u001b[0m\u001b[0mkwargs\u001b[0m\u001b[0;34m)\u001b[0m\u001b[0;34m\u001b[0m\u001b[0;34m\u001b[0m\u001b[0m\n\u001b[0m\u001b[1;32m    890\u001b[0m         for hook in itertools.chain(\n\u001b[1;32m    891\u001b[0m                 \u001b[0m_global_forward_hooks\u001b[0m\u001b[0;34m.\u001b[0m\u001b[0mvalues\u001b[0m\u001b[0;34m(\u001b[0m\u001b[0;34m)\u001b[0m\u001b[0;34m,\u001b[0m\u001b[0;34m\u001b[0m\u001b[0;34m\u001b[0m\u001b[0m\n",
      "\u001b[0;32m<ipython-input-7-03b277083364>\u001b[0m in \u001b[0;36mforward\u001b[0;34m(self, s, encoder_outputs)\u001b[0m\n\u001b[1;32m     29\u001b[0m         \u001b[0;31m# duplicate decoder hidden state\u001b[0m\u001b[0;34m\u001b[0m\u001b[0;34m\u001b[0m\u001b[0;34m\u001b[0m\u001b[0m\n\u001b[1;32m     30\u001b[0m         \u001b[0msrc_len\u001b[0m \u001b[0;34m=\u001b[0m \u001b[0mencoder_outputs\u001b[0m\u001b[0;34m.\u001b[0m\u001b[0mshape\u001b[0m\u001b[0;34m[\u001b[0m\u001b[0;36m0\u001b[0m\u001b[0;34m]\u001b[0m\u001b[0;34m\u001b[0m\u001b[0;34m\u001b[0m\u001b[0m\n\u001b[0;32m---> 31\u001b[0;31m         \u001b[0ms\u001b[0m \u001b[0;34m=\u001b[0m \u001b[0ms\u001b[0m\u001b[0;34m.\u001b[0m\u001b[0munsqueeze\u001b[0m\u001b[0;34m(\u001b[0m\u001b[0;36m1\u001b[0m\u001b[0;34m)\u001b[0m\u001b[0;34m.\u001b[0m\u001b[0mrepeat\u001b[0m\u001b[0;34m(\u001b[0m\u001b[0;36m1\u001b[0m\u001b[0;34m,\u001b[0m \u001b[0msrc_len\u001b[0m\u001b[0;34m,\u001b[0m \u001b[0;36m1\u001b[0m\u001b[0;34m)\u001b[0m\u001b[0;34m\u001b[0m\u001b[0;34m\u001b[0m\u001b[0m\n\u001b[0m\u001b[1;32m     32\u001b[0m \u001b[0;34m\u001b[0m\u001b[0m\n\u001b[1;32m     33\u001b[0m         \u001b[0;31m# reshape encoder output to be same as decoder hidden\u001b[0m\u001b[0;34m\u001b[0m\u001b[0;34m\u001b[0m\u001b[0;34m\u001b[0m\u001b[0m\n",
      "\u001b[0;31mRuntimeError\u001b[0m: Number of dimensions of repeat dims can not be smaller than number of dimensions of tensor"
     ]
    }
   ],
   "source": [
    "val = next(iter(trainset))\n",
    "src, trg = val.src, val.trg\n",
    "encoder_outputs, (h_t, c_t) = enc(val.src)\n",
    "x = trg[0,:]\n",
    "output = dec(x, h_t, c_t, encoder_outputs)"
   ]
  },
  {
   "cell_type": "code",
   "execution_count": 22,
   "metadata": {},
   "outputs": [
    {
     "data": {
      "text/plain": [
       "torch.Size([30, 128, 512])"
      ]
     },
     "execution_count": 22,
     "metadata": {},
     "output_type": "execute_result"
    }
   ],
   "source": [
    "encoder_outputs.shape"
   ]
  },
  {
   "cell_type": "code",
   "execution_count": null,
   "metadata": {},
   "outputs": [],
   "source": [
    "# initialize model weights\n",
    "def init_weights(m):\n",
    "    for name, param in m.named_parameters():\n",
    "        nn.init.uniform_(param.data, -0.08, 0.08)\n",
    "        \n",
    "model.apply(init_weights)"
   ]
  },
  {
   "cell_type": "code",
   "execution_count": null,
   "metadata": {},
   "outputs": [],
   "source": [
    "def count_parameters(model):\n",
    "    return sum(p.numel() for p in model.parameters() if p.requires_grad)\n",
    "\n",
    "print(f'The model has {count_parameters(model):,} trainable parameters')"
   ]
  },
  {
   "cell_type": "markdown",
   "metadata": {},
   "source": [
    "### Training"
   ]
  },
  {
   "cell_type": "code",
   "execution_count": null,
   "metadata": {},
   "outputs": [],
   "source": [
    "def train(model, iterator, optimizer, criterion, clip=1, num_epochs=10):\n",
    "    model.train()\n",
    "    losses = []\n",
    "    for _ in range(num_epochs):\n",
    "        for i, batch in tqdm(enumerate(iterator), desc=\"iteration\"):\n",
    "            src = batch.src\n",
    "            trg = batch.trg \n",
    "            \n",
    "            optimizer.zero_grad()\n",
    "\n",
    "            output = model(src, trg)\n",
    "\n",
    "            output_dim = output.shape[-1]\n",
    "\n",
    "            output = output[1:].view(-1, output_dim)\n",
    "            trg = trg[1:].view(-1)\n",
    "            \n",
    "            loss = criterion(output, trg)\n",
    "            losses.append(loss.item())\n",
    "            loss.backward()\n",
    "\n",
    "            # clip the gradients to prevent them from exploding (a common issue in RNNs)\n",
    "            torch.nn.utils.clip_grad_norm_(model.parameters(), clip)\n",
    "\n",
    "            optimizer.step()\n",
    "                    \n",
    "    return model, losses"
   ]
  },
  {
   "cell_type": "code",
   "execution_count": null,
   "metadata": {},
   "outputs": [],
   "source": [
    "optimizer = optim.Adam(model.parameters())\n",
    "criterion = nn.CrossEntropyLoss(ignore_index=PAD_IDX)\n",
    "model, losses = train(model, trainset, optimizer, criterion)"
   ]
  },
  {
   "cell_type": "markdown",
   "metadata": {},
   "source": [
    "### Training"
   ]
  },
  {
   "cell_type": "code",
   "execution_count": null,
   "metadata": {},
   "outputs": [],
   "source": [
    "plt.scatter(x=list(range(len(losses))), y=losses)"
   ]
  },
  {
   "cell_type": "markdown",
   "metadata": {},
   "source": [
    "### Testing"
   ]
  },
  {
   "cell_type": "code",
   "execution_count": null,
   "metadata": {},
   "outputs": [],
   "source": [
    "def tensor_2_str(tensor, vocab=de_vocab.itos):\n",
    "    return \" \".join([vocab[int(token)] for token in tensor if vocab[int(token)] not in ['<eos>', '<pad>', '.']])"
   ]
  },
  {
   "cell_type": "code",
   "execution_count": null,
   "metadata": {},
   "outputs": [],
   "source": [
    "with torch.no_grad():\n",
    "    sample = next(iter(trainset))\n",
    "    src, trg = sample.src, sample.trg\n",
    "    output = model(src, trg)\n",
    "    output_tensor = output.argmax(2)[:, 0]\n",
    "    target_tensor = trg[:, 0]\n",
    "    \n",
    "    output = tensor_2_str(output_tensor, en_vocab.itos)\n",
    "    expected = tensor_2_str(target_tensor, en_vocab.itos)\n",
    "    N = max(len(output), len(expected)) + len(\"Expected: \")\n",
    "    \n",
    "    print(\"=\"*N)\n",
    "    print(\"Output: {}\".format(output).center(N))\n",
    "    print(\"=\"*N)\n",
    "    \n",
    "    print(\"=\"*N)\n",
    "    print(\"Expected: {}\".format(expected).center(N))\n",
    "    print(\"=\"*N)"
   ]
  }
 ],
 "metadata": {
  "kernelspec": {
   "display_name": "Python 3",
   "language": "python",
   "name": "python3"
  },
  "language_info": {
   "codemirror_mode": {
    "name": "ipython",
    "version": 3
   },
   "file_extension": ".py",
   "mimetype": "text/x-python",
   "name": "python",
   "nbconvert_exporter": "python",
   "pygments_lexer": "ipython3",
   "version": "3.7.6"
  }
 },
 "nbformat": 4,
 "nbformat_minor": 5
}
