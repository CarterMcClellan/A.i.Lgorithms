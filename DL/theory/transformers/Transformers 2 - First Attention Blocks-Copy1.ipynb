{
 "cells": [
  {
   "cell_type": "markdown",
   "id": "silent-essence",
   "metadata": {},
   "source": [
    "# Imports"
   ]
  },
  {
   "cell_type": "code",
   "execution_count": 1,
   "id": "unlimited-platinum",
   "metadata": {},
   "outputs": [],
   "source": [
    "# Standard Lib\n",
    "import os\n",
    "import math\n",
    "import random\n",
    "from time import time\n",
    "from pathlib import Path\n",
    "\n",
    "# Visualization\n",
    "import matplotlib.pyplot as plt\n",
    "\n",
    "# Tokenization\n",
    "import spacy \n",
    "\n",
    "# Loading Bar\n",
    "from tqdm import tqdm\n",
    "\n",
    "# Torch Imports\n",
    "import torch\n",
    "import torch.nn as nn\n",
    "import torch.optim as optim\n",
    "import torch.nn.functional as F\n",
    "\n",
    "# Dataloader Custom Module\n",
    "from sample_dataloader import get_dataloaders"
   ]
  },
  {
   "cell_type": "code",
   "execution_count": null,
   "id": "nutritional-novel",
   "metadata": {},
   "outputs": [],
   "source": [
    "data_root = os.path.join(Path(os.getcwd()).parent.parent.parent, \"Datasets/\")\n",
    "gpu = torch.device(\"cuda:0\")"
   ]
  },
  {
   "cell_type": "code",
   "execution_count": null,
   "id": "strange-combination",
   "metadata": {},
   "outputs": [],
   "source": [
    "!python -m spacy download en_core_web_sm"
   ]
  },
  {
   "cell_type": "code",
   "execution_count": null,
   "id": "central-imperial",
   "metadata": {},
   "outputs": [],
   "source": [
    "!python -m spacy download de_core_news_sm"
   ]
  },
  {
   "cell_type": "markdown",
   "id": "technological-childhood",
   "metadata": {},
   "source": [
    "# Datasets"
   ]
  },
  {
   "cell_type": "code",
   "execution_count": null,
   "id": "reasonable-thriller",
   "metadata": {},
   "outputs": [],
   "source": [
    "trainset, validset, testset, de_vocab, en_vocab = get_dataloaders(batch_size=128, device=gpu, data_root=data_root)"
   ]
  },
  {
   "cell_type": "code",
   "execution_count": null,
   "id": "tested-desktop",
   "metadata": {},
   "outputs": [],
   "source": [
    "# all these indices are the same for french and english\n",
    "PAD_IDX = de_vocab['<pad>']\n",
    "SOS_IDX = de_vocab['<sos>']\n",
    "EOS_IDX = de_vocab['<eos>']"
   ]
  },
  {
   "cell_type": "markdown",
   "id": "aware-chemistry",
   "metadata": {},
   "source": [
    "# Attention\n",
    "In **Transformers 1 - Before Attention** each forward pass went as \n",
    "```python\n",
    "s = c = encoder(x)\n",
    "y = '<s>'\n",
    "for _ in range(N):\n",
    "    decoder_input = torch.cat((s, c), dim=1)\n",
    "    y, s = decoder(y, decoder_input)\n",
    "```\n",
    "\n",
    "Now we introduce **Attention**\n",
    "```python\n",
    "# Encoding Stage (inp_vec (x) -> hidden_states)\n",
    "hidden_states, s = rnn(x)\n",
    "\n",
    "\n",
    "# Decoding Stage(s)\n",
    "\n",
    "# 1) computing the attention weights\n",
    "alignment_scores = []\n",
    "for h_i in hidden_states:\n",
    "    e_i = f_att(s, h_i)\n",
    "    alignment_scores.append(e_i)\n",
    "    \n",
    "attention_weights = F.softmax(alignment_scores)\n",
    "\n",
    "# 2) computing the context vector\n",
    "c = torch.zeros(1, hidden_dim)\n",
    "for a_i, h_i in zip(attention_weights, hidden_states):\n",
    "    c += a_i * h_i\n",
    "    \n",
    "# 3) decoding\n",
    "y = '<s>'\n",
    "y, s = decoder(y, c)\n",
    "```\n"
   ]
  },
  {
   "cell_type": "markdown",
   "id": "homeless-handy",
   "metadata": {},
   "source": [
    "## Implementation Details"
   ]
  },
  {
   "cell_type": "code",
   "execution_count": null,
   "id": "applicable-roads",
   "metadata": {},
   "outputs": [],
   "source": [
    "class Encoder(nn.Module):\n",
    "    def __init__(self):\n",
    "        super().__init__()\n",
    "        # German Embeddings\n",
    "        self.embedding = nn.Embedding()\n",
    "        self.dropout = nn.Dropout()\n",
    "        \n",
    "        # Encoder\n",
    "        self.lstm = nn.LSTM()\n",
    "    \n",
    "    def forward(self, x):\n",
    "        \"\"\"\n",
    "        x: an encoded german sentence\n",
    "        \"\"\"\n",
    "        embedding = self.dropout(self.embedding(x))\n",
    "        _, (hidden, cell) = self.lstm(embedding)\n",
    "        return hidden, cell"
   ]
  },
  {
   "cell_type": "code",
   "execution_count": null,
   "id": "ultimate-belly",
   "metadata": {},
   "outputs": [],
   "source": [
    "class Attention(nn.Module):\n",
    "    def __init__(self):\n",
    "        super().__init__()\n",
    "        self.alignment = nn.Linear()\n",
    "        self.softmax = nn.Softmax()\n",
    "    \n",
    "    def forward(self, d_hidden, encoder_outputs):\n",
    "        \"\"\"\n",
    "        d_hidden: the current hidden state (dh_t)\n",
    "        e_hiddens: a list of all the previous hidden states (eh_i for i <= t)\n",
    "        \"\"\"\n",
    "        pass"
   ]
  },
  {
   "cell_type": "code",
   "execution_count": null,
   "id": "subject-botswana",
   "metadata": {},
   "outputs": [],
   "source": [
    "class Decoder(nn.Module):\n",
    "    def __init__(self, attention):\n",
    "        super().__init__()\n",
    "        # English Embeddings\n",
    "        self.embedding = nn.Embedding()\n",
    "        self.dropout = nn.Dropout()\n",
    "        \n",
    "        # attention block\n",
    "        self.attention = attenion\n",
    "        \n",
    "        # Decoder\n",
    "        self.lstm = nn.LSTM()\n",
    "        self.fc_out = nn.Linear()\n",
    "    \n",
    "    def forward(self, x, hidden, cell):\n",
    "        \"\"\"\n",
    "        x: the previous token\n",
    "        hidden: the previous hidden state\n",
    "        cell: the previous cell state\n",
    "        \"\"\"\n",
    "        embedding = self.dropout(self.embedding(x))\n",
    "        \n",
    "        # attention\n",
    "        weights = self.attention(hidden)\n",
    "        weight_hidden = torch.bmm(weights, hidden)\n",
    "        \n",
    "        # decoding\n",
    "        output, (hidden, cell) = self.lstm(weights_hidden, cell)\n",
    "        \n",
    "        prediction = self.fc_out(prediction)\n",
    "        return prediction, hidden, cell"
   ]
  },
  {
   "cell_type": "markdown",
   "id": "fixed-guyana",
   "metadata": {},
   "source": [
    "### Initialization + Number of Params"
   ]
  },
  {
   "cell_type": "code",
   "execution_count": null,
   "id": "therapeutic-faith",
   "metadata": {},
   "outputs": [],
   "source": [
    "INPUT_DIM = len(de_vocab)\n",
    "OUTPUT_DIM = len(en_vocab)\n",
    "ENC_EMB_DIM = 128\n",
    "DEC_EMB_DIM = 128\n",
    "ENC_HID_DIM = 256\n",
    "DEC_HID_DIM = 256\n",
    "N_LAYERS = 2\n",
    "ENC_DROPOUT = 0.5\n",
    "DEC_DROPOUT = 0.5\n",
    "\n",
    "attn = Attention(ENC_HID_DIM, DEC_HID_DIM)\n",
    "enc = Encoder(INPUT_DIM, ENC_EMB_DIM, ENC_HID_DIM, DEC_HID_DIM, ENC_DROPOUT)\n",
    "dec = Decoder(OUTPUT_DIM, DEC_EMB_DIM, ENC_HID_DIM, DEC_HID_DIM, DEC_DROPOUT, attn)\n",
    "\n",
    "model = Seq2Seq(enc, dec, gpu, OUTPUT_DIM).to(gpu)"
   ]
  },
  {
   "cell_type": "code",
   "execution_count": null,
   "id": "collectible-persian",
   "metadata": {},
   "outputs": [],
   "source": [
    "# initialize model weights\n",
    "def init_weights(m):\n",
    "    for name, param in m.named_parameters():\n",
    "        nn.init.uniform_(param.data, -0.08, 0.08)\n",
    "        \n",
    "model.apply(init_weights)"
   ]
  },
  {
   "cell_type": "code",
   "execution_count": null,
   "id": "alive-chair",
   "metadata": {},
   "outputs": [],
   "source": [
    "def count_parameters(model):\n",
    "    return sum(p.numel() for p in model.parameters() if p.requires_grad)\n",
    "\n",
    "print(f'The model has {count_parameters(model):,} trainable parameters')"
   ]
  },
  {
   "cell_type": "markdown",
   "id": "ultimate-award",
   "metadata": {},
   "source": [
    "### Training"
   ]
  },
  {
   "cell_type": "code",
   "execution_count": null,
   "id": "funded-mumbai",
   "metadata": {},
   "outputs": [],
   "source": [
    "def train(model, iterator, optimizer, criterion, clip=1, num_epochs=10):\n",
    "    model.train()\n",
    "    losses = []\n",
    "    for _ in range(num_epochs):\n",
    "        for i, batch in tqdm(enumerate(iterator), desc=\"iteration\"):\n",
    "            src = batch.src\n",
    "            trg = batch.trg \n",
    "            \n",
    "            optimizer.zero_grad()\n",
    "\n",
    "            output = model(src, trg)\n",
    "\n",
    "            output_dim = output.shape[-1]\n",
    "\n",
    "            output = output[1:].view(-1, output_dim)\n",
    "            trg = trg[1:].view(-1)\n",
    "            \n",
    "            loss = criterion(output, trg)\n",
    "            losses.append(loss.item())\n",
    "            loss.backward()\n",
    "\n",
    "            # clip the gradients to prevent them from exploding (a common issue in RNNs)\n",
    "            torch.nn.utils.clip_grad_norm_(model.parameters(), clip)\n",
    "\n",
    "            optimizer.step()\n",
    "                    \n",
    "    return model, losses"
   ]
  },
  {
   "cell_type": "code",
   "execution_count": null,
   "id": "blocked-harris",
   "metadata": {},
   "outputs": [],
   "source": [
    "optimizer = optim.Adam(model.parameters())\n",
    "criterion = nn.CrossEntropyLoss(ignore_index=PAD_IDX)\n",
    "model, losses = train(model, trainset, optimizer, criterion)"
   ]
  },
  {
   "cell_type": "markdown",
   "id": "caring-plate",
   "metadata": {},
   "source": [
    "### Training"
   ]
  },
  {
   "cell_type": "code",
   "execution_count": null,
   "id": "environmental-water",
   "metadata": {},
   "outputs": [],
   "source": [
    "plt.scatter(x=list(range(len(losses))), y=losses)"
   ]
  },
  {
   "cell_type": "markdown",
   "id": "three-drama",
   "metadata": {},
   "source": [
    "### Testing"
   ]
  },
  {
   "cell_type": "code",
   "execution_count": null,
   "id": "valuable-sight",
   "metadata": {},
   "outputs": [],
   "source": [
    "def tensor_2_str(tensor, vocab=de_vocab.itos):\n",
    "    return \" \".join([vocab[int(token)] for token in tensor if vocab[int(token)] not in ['<eos>', '<pad>', '.']])"
   ]
  },
  {
   "cell_type": "code",
   "execution_count": null,
   "id": "handed-rehabilitation",
   "metadata": {},
   "outputs": [],
   "source": [
    "with torch.no_grad():\n",
    "    sample = next(iter(trainset))\n",
    "    src, trg = sample.src, sample.trg\n",
    "    output = model(src, trg)\n",
    "    output_tensor = output.argmax(2)[:, 0]\n",
    "    target_tensor = trg[:, 0]\n",
    "    \n",
    "    output = tensor_2_str(output_tensor, en_vocab.itos)\n",
    "    expected = tensor_2_str(target_tensor, en_vocab.itos)\n",
    "    N = max(len(output), len(expected)) + len(\"Expected: \")\n",
    "    \n",
    "    print(\"=\"*N)\n",
    "    print(\"Output: {}\".format(output).center(N))\n",
    "    print(\"=\"*N)\n",
    "    \n",
    "    print(\"=\"*N)\n",
    "    print(\"Expected: {}\".format(expected).center(N))\n",
    "    print(\"=\"*N)"
   ]
  }
 ],
 "metadata": {
  "kernelspec": {
   "display_name": "Python 3",
   "language": "python",
   "name": "python3"
  },
  "language_info": {
   "codemirror_mode": {
    "name": "ipython",
    "version": 3
   },
   "file_extension": ".py",
   "mimetype": "text/x-python",
   "name": "python",
   "nbconvert_exporter": "python",
   "pygments_lexer": "ipython3",
   "version": "3.8.8"
  }
 },
 "nbformat": 4,
 "nbformat_minor": 5
}
