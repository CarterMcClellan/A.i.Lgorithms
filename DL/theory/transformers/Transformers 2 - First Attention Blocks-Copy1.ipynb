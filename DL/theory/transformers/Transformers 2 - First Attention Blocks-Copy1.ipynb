{
 "cells": [
  {
   "cell_type": "markdown",
   "id": "alien-newcastle",
   "metadata": {},
   "source": [
    "# First Attention Blocks\n",
    "<img src=\"image_assets/basic_attention.png\" alt=\"drawing\" width=\"600\"/>"
   ]
  },
  {
   "cell_type": "markdown",
   "id": "marine-hostel",
   "metadata": {},
   "source": [
    "## Imports"
   ]
  },
  {
   "cell_type": "code",
   "execution_count": 1,
   "id": "cloudy-blake",
   "metadata": {},
   "outputs": [],
   "source": [
    "# Standard Lib\n",
    "import os\n",
    "import math\n",
    "import random\n",
    "from time import time\n",
    "from pathlib import Path\n",
    "\n",
    "# Visualization\n",
    "import matplotlib.pyplot as plt\n",
    "\n",
    "# Tokenization\n",
    "import spacy \n",
    "\n",
    "# Loading Bar\n",
    "from tqdm import tqdm\n",
    "\n",
    "# Torch Imports\n",
    "import torch\n",
    "import torch.nn as nn\n",
    "import torch.optim as optim\n",
    "import torch.nn.functional as F\n",
    "\n",
    "# Dataloader Custom Module\n",
    "from sample_dataloader import get_dataloaders"
   ]
  },
  {
   "cell_type": "markdown",
   "id": "hired-limitation",
   "metadata": {},
   "source": [
    "## Constants"
   ]
  },
  {
   "cell_type": "code",
   "execution_count": 2,
   "id": "sudden-debut",
   "metadata": {},
   "outputs": [],
   "source": [
    "data_root = os.path.join(Path(os.getcwd()).parent.parent.parent, \"Datasets/\")\n",
    "gpu = torch.device(\"cuda:0\")"
   ]
  },
  {
   "cell_type": "code",
   "execution_count": null,
   "id": "constitutional-costume",
   "metadata": {},
   "outputs": [],
   "source": [
    "!python -m spacy download en_core_web_sm"
   ]
  },
  {
   "cell_type": "code",
   "execution_count": null,
   "id": "capable-subsection",
   "metadata": {},
   "outputs": [],
   "source": [
    "!python -m spacy download de_core_news_sm"
   ]
  },
  {
   "cell_type": "markdown",
   "id": "mental-middle",
   "metadata": {},
   "source": [
    "## Datasets"
   ]
  },
  {
   "cell_type": "code",
   "execution_count": 5,
   "id": "impressed-laser",
   "metadata": {},
   "outputs": [],
   "source": [
    "trainset, validset, testset, de_vocab, en_vocab = get_dataloaders(batch_size=128, device=gpu, data_root=data_root)"
   ]
  },
  {
   "cell_type": "code",
   "execution_count": 6,
   "id": "guided-program",
   "metadata": {},
   "outputs": [],
   "source": [
    "# all these indices are the same for french and english\n",
    "PAD_IDX = de_vocab['<pad>']\n",
    "SOS_IDX = de_vocab['<sos>']\n",
    "EOS_IDX = de_vocab['<eos>']"
   ]
  },
  {
   "cell_type": "markdown",
   "id": "black-myrtle",
   "metadata": {},
   "source": [
    "## Attention\n",
    "In **Transformers 1 - Before Attention** each forward pass went as \n",
    "```python\n",
    "y, s = '<s>', encoder(x)\n",
    "for _ in range(N):\n",
    "    y, s = decoder(y, s)\n",
    "```\n",
    "\n",
    "Now we introduce **Attention**\n",
    "```python\n",
    "# Encoding Stage (inp_vec (x) -> hidden_states)\n",
    "hidden_states, s = encoder(x)\n",
    "\n",
    "# Decoding Stage(s)\n",
    "\n",
    "# 1) computing the attention weights\n",
    "alignment_scores = []\n",
    "for h_i in hidden_states:\n",
    "    e_i = f_att(s, h_i)\n",
    "    alignment_scores.append(e_i)\n",
    "    \n",
    "attention_weights = F.softmax(alignment_scores)\n",
    "\n",
    "# 2) computing the context vector\n",
    "c = torch.zeros(1, hidden_dim)\n",
    "for a_i, h_i in zip(attention_weights, hidden_states):\n",
    "    c += a_i * h_i\n",
    "    \n",
    "# 3) decoding\n",
    "y = '<s>'\n",
    "y, s = decoder(y, c)\n",
    "```\n"
   ]
  },
  {
   "cell_type": "code",
   "execution_count": 7,
   "id": "pleased-injury",
   "metadata": {},
   "outputs": [],
   "source": [
    "class Encoder(nn.Module):\n",
    "    def __init__(self, inp_vocab_len, num_features, num_hidden, num_layers, dropout):\n",
    "        \"\"\"\n",
    "        Inputs:\n",
    "            (encoder lstm params)\n",
    "                num_hidden_features: The number of features in the hidden state h\n",
    "                num_encoder_layers: The number of layers in the lstm\n",
    "                dropout: the probability of dropout\n",
    "\n",
    "            (embedding params)\n",
    "                inp_vocab_len: The size of the dictionary of embeddings\n",
    "                num_features: The size of each embedding vector\n",
    "\n",
    "            (regularization)\n",
    "                dropout\n",
    "        \"\"\"\n",
    "        super().__init__()\n",
    "        \n",
    "        self.embedding = nn.Embedding(num_embeddings=inp_vocab_len, \n",
    "                                      embedding_dim=num_features)\n",
    "        self.dropout = nn.Dropout(dropout)\n",
    "        \n",
    "        self.lstm = nn.LSTM(input_size=num_features, \n",
    "                            hidden_size=num_hidden, \n",
    "                            num_layers=num_layers,\n",
    "                            dropout=dropout)\n",
    "    \n",
    "    def forward(self, x):\n",
    "        \"\"\"\n",
    "        Input:\n",
    "            (x) \n",
    "                (description): an encoded german sentence\n",
    "                (shape): [1, number of tokens, batch size]\n",
    "        \n",
    "        Output:\n",
    "            (hidden_states)\n",
    "                tensor containing the output features (h_t) from the last layer of the LSTM, for each t\n",
    "            (h_t)\n",
    "                tensor containing the hidden state for t = seq_len\n",
    "            (c_t)\n",
    "                tensor containing the cell state for t = seq_len.\n",
    "        \"\"\"\n",
    "        embedding = self.dropout(self.embedding(x))\n",
    "        hidden_states, (h_t, c_t) = self.lstm(embedding)\n",
    "        return hidden_states, (h_t, c_t)"
   ]
  },
  {
   "cell_type": "code",
   "execution_count": null,
   "id": "powerful-mortgage",
   "metadata": {},
   "outputs": [],
   "source": [
    "class Attention(nn.Module):\n",
    "    def __init__(self, decoder_hidden_size, encoder_hidden_size):\n",
    "        super().__init__()\n",
    "        \n",
    "        # why decoder hidden size + encoder_hidden_size?\n",
    "        #     because we are going to concatenate the current decoder hidden\n",
    "        #     to every encoder hidden\n",
    "        self.f_att = nn.Linear((decoder_hidden_size + encoder_hidden_size), 1)\n",
    "    \n",
    "    def forward(self, s, encoder_outputs):\n",
    "        \"\"\"\n",
    "        Input:\n",
    "            (s)\n",
    "                description: current decoder hidden state\n",
    "                \n",
    "            (encoder_outputs)\n",
    "                description: tensor containing the output features (h_t) from the last layer of the LSTM, for each t\n",
    "                \n",
    "        Method Overview:\n",
    "            We are trying to assign weights to the encoder outputs!\n",
    "            to do this we are going to pass a large matrix\n",
    "            into a linear layer (f_att), then output scalars\n",
    "\n",
    "            the input for our linear layer should be of the shape\n",
    "            (batch_size, seq_len, enc_hidden_size + dec_hidden_size)\n",
    "            \n",
    "        \"\"\"\n",
    "        \n",
    "        # duplicate decoder hidden state\n",
    "        src_len = encoder_outputs.shape[0]\n",
    "        s = s[-1].unsqueeze(1).repeat(1, src_len, 1)\n",
    "        \n",
    "        # reshape encoder output to be same as decoder hidden\n",
    "        encoder_outputs = encoder_outputs.permute(1, 0, 2)\n",
    "        \n",
    "        # notice how we are concatenating along the third dimension\n",
    "        # as expected above\n",
    "        concatenated_inputs = torch.cat((s, encoder_outputs_reshaped), dim = 2)\n",
    "                               \n",
    "        # note: there is one encoder output for every token in the sequence\n",
    "        alignment_scores = self.f_att(concatenated_inputs)\n",
    "        \n",
    "        # compute attention weights\n",
    "        return F.softmax(alignment_scores)"
   ]
  },
  {
   "cell_type": "code",
   "execution_count": null,
   "id": "strong-order",
   "metadata": {},
   "outputs": [],
   "source": [
    "class Decoder(nn.Module):\n",
    "    def __init__(self, trg_vocab_len, num_features, num_hidden, num_layers, dropout):\n",
    "        super().__init__()\n",
    "        \n",
    "        self.embedding = nn.Embedding(num_embeddings=trg_vocab_len, \n",
    "                                      embedding_dim=num_features)\n",
    "        self.dropout = nn.Dropout(dropout)\n",
    "        \n",
    "        # attention block\n",
    "        self.attention = attenion\n",
    "        \n",
    "        # Decoder\n",
    "        self.lstm = nn.LSTM(input_size=num_features, \n",
    "                            hidden_size=num_hidden, \n",
    "                            num_layers=num_layers,\n",
    "                            dropout=dropout)\n",
    "        self.fc_out = nn.Linear()\n",
    "    \n",
    "    def forward(self, x, s, cell, encoder_outputs):\n",
    "        \"\"\"\n",
    "        Input\n",
    "            (x)\n",
    "                (description): the previous token\n",
    "                (shape): [1, 1, batch size]\n",
    "                \n",
    "            (s)\n",
    "                (description): current decoder hidden state\n",
    "                (shape): [num_layers, batch_size, embedding_dim]\n",
    "                \n",
    "            (cell)\n",
    "                (description): current cell state\n",
    "                (shape): [num_layers, batch_size, embedding_dim]\n",
    "                \n",
    "            (encoder outputs) \n",
    "                (description): tensor containing the output features (h_t) from the last layer of the LSTM, for each t\n",
    "                (shape): [token_seq_len, batch_size, embedding_dim]\n",
    "        \"\"\"\n",
    "        embedding = self.dropout(self.embedding(x))\n",
    "        \n",
    "        # attention\n",
    "        attention_weights = self.attention(s, encoder_outputs)\n",
    "        context_vector = torch.bmm(weights, hidden)\n",
    "        \n",
    "        # decoding\n",
    "        output, (s, cell) = self.lstm(context_vector, cell)\n",
    "        \n",
    "        prediction = self.fc_out(prediction)\n",
    "        return prediction, s, cell"
   ]
  },
  {
   "cell_type": "code",
   "execution_count": null,
   "id": "conceptual-recommendation",
   "metadata": {},
   "outputs": [],
   "source": [
    "class Seq2Seq(nn.Module):\n",
    "    def __init__(self, encoder, decoder):\n",
    "        super().__init()\n",
    "    \n",
    "    def forward(self, x):\n",
    "        outputs = torch.zeros(trg_len, batch_size, self.trg_vocab_size).to(self.device)\n",
    "        \n",
    "        encoder_outputs, s, c_t = self.encoder(src)\n",
    "        \n",
    "        # this shoud just be replaced with <s> or whatever our start token is\n",
    "        x = trg[0,:]\n",
    "        \n",
    "        for t in range(1, trg_len):\n",
    "            prediction, s, cell = self.decoder(x, s, cell, encoder_outputs)\n",
    "            \n",
    "            outputs[t] = output\n",
    "            \n",
    "            # decide if we are going to use teacher forcing or not\n",
    "            teacher_force = random.random() < teacher_forcing_ratio\n",
    "            \n",
    "            top1 = output.argmax(1) \n",
    "    \n",
    "            x = trg[t] if teacher_force else top1\n",
    "        \n",
    "        return outputs"
   ]
  },
  {
   "cell_type": "markdown",
   "id": "generic-biology",
   "metadata": {},
   "source": [
    "### Initialization + Number of Params"
   ]
  },
  {
   "cell_type": "code",
   "execution_count": 9,
   "id": "express-retreat",
   "metadata": {},
   "outputs": [],
   "source": [
    "inp_vocab_len = len(de_vocab)\n",
    "num_features = 128\n",
    "num_hidden = 256\n",
    "num_layers = 2\n",
    "dropout = .5\n",
    "\n",
    "enc = Encoder(inp_vocab_len, num_features, num_hidden, num_layers, dropout).to(gpu)\n",
    "\n",
    "# attn = Attention(ENC_HID_DIM, DEC_HID_DIM)\n",
    "# dec = Decoder(OUTPUT_DIM, DEC_EMB_DIM, ENC_HID_DIM, DEC_HID_DIM, DEC_DROPOUT, attn)\n",
    "# model = Seq2Seq(enc, dec, gpu, OUTPUT_DIM).to(gpu)"
   ]
  },
  {
   "cell_type": "code",
   "execution_count": 19,
   "id": "forced-rider",
   "metadata": {},
   "outputs": [
    {
     "name": "stderr",
     "output_type": "stream",
     "text": [
      "/opt/conda/lib/python3.8/site-packages/torchtext/data/batch.py:23: UserWarning: Batch class will be retired soon and moved to torchtext.legacy. Please see the most recent release notes for further information.\n",
      "  warnings.warn('{} class will be retired soon and moved to torchtext.legacy. Please see the most recent release notes for further information.'.format(self.__class__.__name__), UserWarning)\n"
     ]
    }
   ],
   "source": [
    "val = next(iter(trainset))\n",
    "encoder_outputs, (h_t, c_t) = enc(val.src)"
   ]
  },
  {
   "cell_type": "code",
   "execution_count": 40,
   "id": "breeding-firmware",
   "metadata": {},
   "outputs": [
    {
     "name": "stdout",
     "output_type": "stream",
     "text": [
      "torch.Size([128, 24, 512])\n"
     ]
    },
    {
     "data": {
      "text/plain": [
       "torch.Size([128, 24, 1])"
      ]
     },
     "execution_count": 40,
     "metadata": {},
     "output_type": "execute_result"
    }
   ],
   "source": []
  },
  {
   "cell_type": "code",
   "execution_count": null,
   "id": "friendly-florida",
   "metadata": {},
   "outputs": [],
   "source": [
    "# initialize model weights\n",
    "def init_weights(m):\n",
    "    for name, param in m.named_parameters():\n",
    "        nn.init.uniform_(param.data, -0.08, 0.08)\n",
    "        \n",
    "model.apply(init_weights)"
   ]
  },
  {
   "cell_type": "code",
   "execution_count": null,
   "id": "confidential-threat",
   "metadata": {},
   "outputs": [],
   "source": [
    "def count_parameters(model):\n",
    "    return sum(p.numel() for p in model.parameters() if p.requires_grad)\n",
    "\n",
    "print(f'The model has {count_parameters(model):,} trainable parameters')"
   ]
  },
  {
   "cell_type": "markdown",
   "id": "perceived-therapy",
   "metadata": {},
   "source": [
    "### Training"
   ]
  },
  {
   "cell_type": "code",
   "execution_count": null,
   "id": "underlying-correction",
   "metadata": {},
   "outputs": [],
   "source": [
    "def train(model, iterator, optimizer, criterion, clip=1, num_epochs=10):\n",
    "    model.train()\n",
    "    losses = []\n",
    "    for _ in range(num_epochs):\n",
    "        for i, batch in tqdm(enumerate(iterator), desc=\"iteration\"):\n",
    "            src = batch.src\n",
    "            trg = batch.trg \n",
    "            \n",
    "            optimizer.zero_grad()\n",
    "\n",
    "            output = model(src, trg)\n",
    "\n",
    "            output_dim = output.shape[-1]\n",
    "\n",
    "            output = output[1:].view(-1, output_dim)\n",
    "            trg = trg[1:].view(-1)\n",
    "            \n",
    "            loss = criterion(output, trg)\n",
    "            losses.append(loss.item())\n",
    "            loss.backward()\n",
    "\n",
    "            # clip the gradients to prevent them from exploding (a common issue in RNNs)\n",
    "            torch.nn.utils.clip_grad_norm_(model.parameters(), clip)\n",
    "\n",
    "            optimizer.step()\n",
    "                    \n",
    "    return model, losses"
   ]
  },
  {
   "cell_type": "code",
   "execution_count": null,
   "id": "sporting-fields",
   "metadata": {},
   "outputs": [],
   "source": [
    "optimizer = optim.Adam(model.parameters())\n",
    "criterion = nn.CrossEntropyLoss(ignore_index=PAD_IDX)\n",
    "model, losses = train(model, trainset, optimizer, criterion)"
   ]
  },
  {
   "cell_type": "markdown",
   "id": "compressed-rapid",
   "metadata": {},
   "source": [
    "### Training"
   ]
  },
  {
   "cell_type": "code",
   "execution_count": null,
   "id": "abroad-specialist",
   "metadata": {},
   "outputs": [],
   "source": [
    "plt.scatter(x=list(range(len(losses))), y=losses)"
   ]
  },
  {
   "cell_type": "markdown",
   "id": "champion-study",
   "metadata": {},
   "source": [
    "### Testing"
   ]
  },
  {
   "cell_type": "code",
   "execution_count": null,
   "id": "annual-korean",
   "metadata": {},
   "outputs": [],
   "source": [
    "def tensor_2_str(tensor, vocab=de_vocab.itos):\n",
    "    return \" \".join([vocab[int(token)] for token in tensor if vocab[int(token)] not in ['<eos>', '<pad>', '.']])"
   ]
  },
  {
   "cell_type": "code",
   "execution_count": null,
   "id": "educational-treasury",
   "metadata": {},
   "outputs": [],
   "source": [
    "with torch.no_grad():\n",
    "    sample = next(iter(trainset))\n",
    "    src, trg = sample.src, sample.trg\n",
    "    output = model(src, trg)\n",
    "    output_tensor = output.argmax(2)[:, 0]\n",
    "    target_tensor = trg[:, 0]\n",
    "    \n",
    "    output = tensor_2_str(output_tensor, en_vocab.itos)\n",
    "    expected = tensor_2_str(target_tensor, en_vocab.itos)\n",
    "    N = max(len(output), len(expected)) + len(\"Expected: \")\n",
    "    \n",
    "    print(\"=\"*N)\n",
    "    print(\"Output: {}\".format(output).center(N))\n",
    "    print(\"=\"*N)\n",
    "    \n",
    "    print(\"=\"*N)\n",
    "    print(\"Expected: {}\".format(expected).center(N))\n",
    "    print(\"=\"*N)"
   ]
  }
 ],
 "metadata": {
  "kernelspec": {
   "display_name": "Python 3",
   "language": "python",
   "name": "python3"
  },
  "language_info": {
   "codemirror_mode": {
    "name": "ipython",
    "version": 3
   },
   "file_extension": ".py",
   "mimetype": "text/x-python",
   "name": "python",
   "nbconvert_exporter": "python",
   "pygments_lexer": "ipython3",
   "version": "3.8.8"
  }
 },
 "nbformat": 4,
 "nbformat_minor": 5
}
