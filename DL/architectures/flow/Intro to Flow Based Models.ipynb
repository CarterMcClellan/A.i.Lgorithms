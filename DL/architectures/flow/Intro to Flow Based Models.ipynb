{
 "cells": [
  {
   "cell_type": "markdown",
   "metadata": {},
   "source": [
    "# Flow Models\n",
    "\n",
    "Flow models come from Gaussian Mixture Models - a technique which fits the underlying distribution using a sum of Gaussian Distributions and weights\n",
    "\n",
    "$$\\text{Gaussian Mixture Model} = \\sum_i \\pi_i \\cdot N(\\mu_i, \\sigma_i)$$"
   ]
  }
 ],
 "metadata": {
  "kernelspec": {
   "display_name": "Python 3",
   "language": "python",
   "name": "python3"
  },
  "language_info": {
   "codemirror_mode": {
    "name": "ipython",
    "version": 3
   },
   "file_extension": ".py",
   "mimetype": "text/x-python",
   "name": "python",
   "nbconvert_exporter": "python",
   "pygments_lexer": "ipython3",
   "version": "3.8.8"
  }
 },
 "nbformat": 4,
 "nbformat_minor": 4
}
