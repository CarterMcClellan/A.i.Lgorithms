{
 "cells": [
  {
   "cell_type": "markdown",
   "metadata": {},
   "source": [
    "### Motivating Recurrent Neural Networks\n",
    "Picking up the discussion from where we left off, we proposed a model over 2 variables $x_1, x_2$, learning a distribution $p(x_1, x_2)$ as $p(x_1) \\cdot p(x_2 ~|~ x_1)$, where \n",
    "- $p(x_1)$ is estimated using a histogram\n",
    "- $p(x_2 ~|~ x_1)$ is estimated using a MLP\n",
    "\n",
    "The conclusion being that such a model is bad because\n",
    "- there is one function approximator per conditional\n",
    "- no information is shared amoungst different conditionals\n",
    "\n",
    "The solution to both problems being share parameters between a single function approximator"
   ]
  },
  {
   "cell_type": "markdown",
   "metadata": {},
   "source": [
    "### RNN Review\n",
    "\n",
    "What is an RNN?\n",
    "```python\n",
    "def rnn_step(self, input, hidden):\n",
    "    # if we simply had\n",
    "    # hidden = torch.tanh(input @ self.Wxh + self.bh)\n",
    "    # it would just be a multi layer perceptron\n",
    "\n",
    "    # by adding hidden @ self.Whh we using the context of the previous\n",
    "    # hidden state\n",
    "    hidden = input @ self.Wxh +  hidden @ self.Whh + self.bh\n",
    "    output = hidden @ self.Why + self.by\n",
    "\n",
    "    output = self.softmax(output)\n",
    "\n",
    "    return output, hidden\n",
    "```\n",
    "The comment really covers it, an RNN distinguishes itself from a MLP in that with each step we are not only updating the weights of previous layers, but carrying forward the hidden state from past iterations. To see in more detail how the LSTM improves on the existing RNN model, see the nlp section."
   ]
  },
  {
   "cell_type": "markdown",
   "metadata": {},
   "source": [
    "### Imports"
   ]
  },
  {
   "cell_type": "code",
   "execution_count": 1,
   "metadata": {},
   "outputs": [],
   "source": [
    "# Visualization\n",
    "import matplotlib.pyplot as plt\n",
    "\n",
    "# data processing\n",
    "import numpy as np\n",
    "from tqdm import tqdm\n",
    "\n",
    "# Torch Imports\n",
    "import torch\n",
    "import torch.nn as nn\n",
    "import torch.optim as optim\n",
    "import torch.utils.data as data\n",
    "import torch.nn.functional as F\n",
    "\n",
    "# Torchvision Imports\n",
    "import torchvision.datasets as datasets\n",
    "import torchvision.transforms as transforms\n",
    "from torchvision.utils import make_grid"
   ]
  },
  {
   "cell_type": "code",
   "execution_count": 2,
   "metadata": {},
   "outputs": [],
   "source": [
    "# GPU acceleration\n",
    "gpu = torch.device(\"cuda:0\")"
   ]
  },
  {
   "cell_type": "markdown",
   "metadata": {},
   "source": [
    "### Dataset"
   ]
  },
  {
   "cell_type": "code",
   "execution_count": 3,
   "metadata": {},
   "outputs": [],
   "source": [
    "MNIST_SIZE = 28\n",
    "\n",
    "# important: \n",
    "# must transfor all images to binary, else the loss function is all wrong\n",
    "trans = transforms.Compose([\n",
    "                            transforms.Grayscale(), \n",
    "                            transforms.Resize((MNIST_SIZE, MNIST_SIZE)), \n",
    "                            transforms.ToTensor(),\n",
    "                            lambda x: x>0,\n",
    "                            lambda x: x.float(),\n",
    "])\n",
    "mnist_dataset = datasets.MNIST(root='./sample_data', train=True, download=True, transform=trans)\n",
    "mnist_loader = torch.utils.data.DataLoader(mnist_dataset, shuffle=True, batch_size=64)"
   ]
  },
  {
   "cell_type": "markdown",
   "metadata": {},
   "source": [
    "### Architecture Overview\n",
    "Generating MNIST images pixel by pixel with an lstm, the idea here being lstm's are good because they share the parameters from all previous generated pixels"
   ]
  },
  {
   "cell_type": "code",
   "execution_count": 4,
   "metadata": {},
   "outputs": [],
   "source": [
    "class RNN_Example(nn.Module):\n",
    "    \n",
    "    def __init__(self, device, input_shape=(1, 28, 28), hidden_size=256):\n",
    "        super().__init__()\n",
    "        self.device = device\n",
    "        self.input_channels = input_shape[0] + 2 if append_loc else input_shape[0]\n",
    "        self.hidden_size = hidden_size\n",
    "        self.input_shape = input_shape\n",
    "        self.canvas_size = input_shape[1] * input_shape[2]\n",
    "\n",
    "        self.lstm = nn.LSTM(self.input_channels, self.hidden_size, num_layers=1, batch_first=True)\n",
    "        self.fc = nn.Linear(self.hidden_size, input_shape[0])\n",
    "\n",
    "    def loss(self, x_inp):\n",
    "        batch_size = x.shape[0]\n",
    "\n",
    "        # reshape into 784 dim vector\n",
    "        x_inp = x_inp.view(batch_size, self.canvas_size, self.input_channels)\n",
    "        \n",
    "        # remove last pixel, prepend 0 as first pixel\n",
    "        x_inp = torch.cat((torch.zeros(batch_size, 1, self.input_channels).to(self.device), x_inp[:, :-1]), dim=1)\n",
    "\n",
    "        h0 = torch.zeros(1, x_inp.size(0), self.hidden_size).to(self.device)\n",
    "        c0 = torch.zeros(1, x_inp.size(0), self.hidden_size).to(self.device)\n",
    "\n",
    "        # Forward propagate LSTM\n",
    "        out, _ = self.lstm(x_inp, (h0, c0))  # out: tensor of shape (batch_size, seq_length, hidden_size)\n",
    "\n",
    "        # Decode the hidden state of the last time step\n",
    "        out = self.fc(out).squeeze(-1) # b x 784\n",
    "\n",
    "        return F.binary_cross_entropy_with_logits(out, x.view(batch_size, -1))\n",
    "\n",
    "\n",
    "    def sample(self, n):\n",
    "        \"\"\"\n",
    "        kinda an important thing to note here:\n",
    "            each sample can be generated in parallel, but generating a single\n",
    "            scales linearly with the number of pixels in the image.\n",
    "            \n",
    "            eg. a image with 100 pixels should generate 20 times faster than\n",
    "            an image with 2,000 pixels\n",
    "        \"\"\"\n",
    "        with torch.no_grad():\n",
    "            # vector of zeros (note that this repsents the initial pixel)\n",
    "            samples = torch.zeros(n, 1, self.input_channels).to(self.device)\n",
    "            \n",
    "            # vector of hidden states\n",
    "            h = torch.zeros(1, n, self.hidden_size).to(self.device)\n",
    "            \n",
    "            # vector of content states\n",
    "            c = torch.zeros(1, n, self.hidden_size).to(self.device)\n",
    "            \n",
    "            # generate pixel by pixel\n",
    "            for i in range(self.canvas_size):\n",
    "                x_inp = samples[:, [i]]\n",
    "                out, (h, c) = self.lstm(x_inp, (h, c))\n",
    "                out = self.fc(out[:, 0, :])\n",
    "                prob = torch.sigmoid(out)\n",
    "                sample_pixel = torch.bernoulli(prob).unsqueeze(-1) # n x 1 x 1\n",
    "                samples = torch.cat((samples, sample_pixel), dim=1)\n",
    "\n",
    "\n",
    "            samples = samples[:, 1:].squeeze(-1) # n x 784\n",
    "            samples = samples.view(n, *self.input_shape)\n",
    "            return samples.cpu()"
   ]
  },
  {
   "cell_type": "markdown",
   "metadata": {},
   "source": [
    "### Training"
   ]
  },
  {
   "cell_type": "code",
   "execution_count": 5,
   "metadata": {},
   "outputs": [],
   "source": [
    "def train(train_loader, d, num_epochs=20):\n",
    "    model = RNN_Example(gpu)\n",
    "    model = model.to(gpu)\n",
    "    \n",
    "    optimizer = optim.SGD(model.parameters(), lr=0.1, momentum=.9)\n",
    "    train_loss = []\n",
    "    \n",
    "    for epoch in tqdm(range(num_epochs), desc='Training model'):  # loop over the dataset multiple times\n",
    "        for i, data in enumerate(train_loader):\n",
    "            images = data[0].to(gpu)\n",
    "\n",
    "            # zero the parameter gradients\n",
    "            optimizer.zero_grad()\n",
    "\n",
    "            # forward + backward + optimize\n",
    "            loss = model.loss(images)\n",
    "            train_loss.append(loss.mean().cpu().item())\n",
    "            loss.backward()\n",
    "            optimizer.step()\n",
    "        \n",
    "        if epoch in [0, 5, 10, 15]:\n",
    "            samples = model.sample(64)\n",
    "            save_sample(samples, '{}_epoch.jpg'.format(epoch))\n",
    "            \n",
    "    return model, train_loss\n",
    "\n",
    "def plot_sample(samples, title):\n",
    "    grid_img = make_grid(samples, nrow=8)\n",
    "    plt.imshow(grid_img.permute(1, 2, 0))\n",
    "    plt.axis('off')\n",
    "    plt.title(title)\n",
    "    \n",
    "def save_sample(samples, title):\n",
    "    grid_img = make_grid(samples, nrow=8)\n",
    "    plt.imsave(title, grid_img.permute(1, 2, 0).numpy())\n",
    "    "
   ]
  },
  {
   "cell_type": "code",
   "execution_count": 6,
   "metadata": {},
   "outputs": [
    {
     "name": "stderr",
     "output_type": "stream",
     "text": [
      "Training model: 100%|██████████| 20/20 [13:28<00:00, 40.43s/it]\n"
     ]
    }
   ],
   "source": [
    "rnn_mnist_generator, train_loss = train(mnist_loader, gpu)"
   ]
  },
  {
   "cell_type": "markdown",
   "metadata": {},
   "source": [
    "### Visualization"
   ]
  },
  {
   "cell_type": "code",
   "execution_count": 7,
   "metadata": {},
   "outputs": [
    {
     "data": {
      "image/png": "[encoded data removed]",
      "text/plain": [
       "<Figure size 432x288 with 1 Axes>"
      ]
     },
     "metadata": {
      "needs_background": "light"
     },
     "output_type": "display_data"
    }
   ],
   "source": [
    "samples = rnn_mnist_generator.sample(64)\n",
    "plot_sample(samples, 'Finished Network')"
   ]
  },
  {
   "cell_type": "code",
   "execution_count": 8,
   "metadata": {},
   "outputs": [
    {
     "data": {
      "text/plain": [
       "Text(0.5, 1.0, 'Train Loss')"
      ]
     },
     "execution_count": 8,
     "metadata": {},
     "output_type": "execute_result"
    },
    {
     "data": {
      "image/png": "[encoded data removed]",
      "text/plain": [
       "<Figure size 432x288 with 1 Axes>"
      ]
     },
     "metadata": {
      "needs_background": "light"
     },
     "output_type": "display_data"
    }
   ],
   "source": [
    "plt.scatter(range(len(train_loss)), train_loss)\n",
    "plt.title('Train Loss')"
   ]
  }
 ],
 "metadata": {
  "kernelspec": {
   "display_name": "Python 3",
   "language": "python",
   "name": "python3"
  },
  "language_info": {
   "codemirror_mode": {
    "name": "ipython",
    "version": 3
   },
   "file_extension": ".py",
   "mimetype": "text/x-python",
   "name": "python",
   "nbconvert_exporter": "python",
   "pygments_lexer": "ipython3",
   "version": "3.7.6"
  }
 },
 "nbformat": 4,
 "nbformat_minor": 2
}
