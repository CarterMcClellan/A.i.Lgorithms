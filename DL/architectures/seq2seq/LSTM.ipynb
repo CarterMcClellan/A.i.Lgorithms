{
 "cells": [
  {
   "cell_type": "markdown",
   "metadata": {},
   "source": [
    "### What is the difference between a vanilla RNN, and an LSTM\n",
    "LSTMs are a kind of RNN. How are they different from a Vanilla RNN?\n",
    "\n",
    "- In a Vanilla RNN, we have a hidden state which we pass forward\n",
    "$$\n",
    "h_t = \\tanh\\left( W \\cdot \\begin{bmatrix} h_{t-1} \\\\ x \\end{bmatrix}\\right)\n",
    "$$\n",
    "\n",
    "- In an LSTM, we have a sequence of gates $i$, $f$, $o$, $g$, which each control the increment to the subsequent hidden state\n",
    "$$\n",
    "\\begin{bmatrix} i \\\\ f \\\\ o \\\\ g\\end{bmatrix} = \\begin{bmatrix} \\sigma \\\\ \\sigma \\\\ \\sigma \\\\ \\tanh\\end{bmatrix} \\cdot W \\cdot \\begin{bmatrix} h_{t-1} \\\\ x\\end{bmatrix}\n",
    "$$"
   ]
  },
  {
   "cell_type": "markdown",
   "metadata": {},
   "source": [
    "### LSTM Formulation\n",
    "Functionally we use each of these \"gates\" to compute the following updates\n",
    "$$c_t = f \\odot c_{t-1} + i \\odot g$$\n",
    "$$h_t = o \\odot \\tanh(c_t)$$\n",
    "note that $c_t$ is short for \"cell state\""
   ]
  },
  {
   "cell_type": "markdown",
   "metadata": {},
   "source": [
    "### Explaining the Gates\n",
    "\n",
    "| character \t| full name   \t| range of values \t| role                                                                               \t|\n",
    "|-----------\t|-------------\t|-----------------\t|------------------------------------------------------------------------------------\t|\n",
    "| i         \t| input gate  \t| 0 to 1          \t| Which cell states to we want to increment \t|\n",
    "| f         \t| forget gate \t| 0 to 1          \t| What to erase from the previous cell state                                         \t|\n",
    "| o         \t| output gate \t| 0 to 1          \t| What to pass forward from the cell state to the hidden state                       \t|\n",
    "| g         \t| gate        \t| -1 to 1         \t| By how much do we want to increment each cell state                                \t|\n",
    "\n",
    "Remember that each of the gates corresponds to the increment of a single elements\n",
    "\n",
    "$$c_t[0][0] = f[0][0] \\cdot c_{t-1}[0][0] + i[0][0] \\cdot g[0][0]$$"
   ]
  },
  {
   "cell_type": "markdown",
   "metadata": {},
   "source": [
    "### References\n",
    "[Stanford RNN Lecture](https://www.youtube.com/watch?v=6niqTuYFZLQ&t=3445s)"
   ]
  }
 ],
 "metadata": {
  "kernelspec": {
   "display_name": "Python 3",
   "language": "python",
   "name": "python3"
  },
  "language_info": {
   "codemirror_mode": {
    "name": "ipython",
    "version": 3
   },
   "file_extension": ".py",
   "mimetype": "text/x-python",
   "name": "python",
   "nbconvert_exporter": "python",
   "pygments_lexer": "ipython3",
   "version": "3.7.6"
  }
 },
 "nbformat": 4,
 "nbformat_minor": 2
}
