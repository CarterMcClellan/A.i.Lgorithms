{
 "cells": [
  {
   "cell_type": "code",
   "execution_count": null,
   "metadata": {},
   "outputs": [],
   "source": [
    "import os\n",
    "import pathlib\n",
    "\n",
    "import torch\n",
    "\n",
    "import torchvision.datasets as datasets\n",
    "import torchvision.transforms as transforms\n",
    "from torch.utils.data import DataLoader"
   ]
  },
  {
   "cell_type": "code",
   "execution_count": null,
   "metadata": {
    "scrolled": true
   },
   "outputs": [],
   "source": [
    "# CONSTANTS\n",
    "DATA_DIR = '~/pytorch_data/'\n",
    "DEVICE = torch.device(\"cuda:0\" if torch.cuda.is_available() else \"cpu\")\n",
    "MNIST_SIZE = 28\n",
    "NUM_EPOCHS = 2\n",
    "LEARNING_RATE = 1e-7\n",
    "\n",
    "trans = transforms.Compose([transforms.Grayscale(), transforms.Resize((MNIST_SIZE, MNIST_SIZE)), transforms.ToTensor()])\n",
    "mnist_loader = torch.utils.data.DataLoader(datasets.MNIST(root=DATA_DIR, train=True, download=True, \n",
    "                                                          transform=trans), shuffle=True)\n",
    "\n",
    "mnist_loader = DataLoader(datasets.MNIST(root=DATA_DIR, train=True, download=True, transform=trans), shuffle=True)"
   ]
  },
  {
   "cell_type": "markdown",
   "metadata": {},
   "source": [
    "# About AE's\n",
    "Auto-Encoders work in encoder, $e$, decoder, $d$ pairs. The goals of these 2 components is to\n",
    "- Maximize the amount of information held while encoding, $e^*$\n",
    "- Minimize the amount of information lost while decoding, $d^*$\n",
    "\n",
    "We express this function as\n",
    "$$ e^*, d^* = \\arg \\min \\epsilon\\left(x, d(e(x))\\right)$$\n",
    "Where $d(e(x))$ is the reconstructed output"
   ]
  },
  {
   "cell_type": "markdown",
   "metadata": {},
   "source": [
    "## Autoencoder"
   ]
  },
  {
   "cell_type": "code",
   "execution_count": null,
   "metadata": {},
   "outputs": [],
   "source": [
    "import torch.nn as nn\n",
    "import torch.optim as optim\n",
    "import torch.nn.functional as F"
   ]
  },
  {
   "cell_type": "code",
   "execution_count": null,
   "metadata": {},
   "outputs": [],
   "source": [
    "class Autoencoder(nn.Module):\n",
    "    def __init__(self):\n",
    "        super(Autoencoder, self).__init__()\n",
    "        encoder_layers = [nn.Linear(in_features=MNIST_SIZE*MNIST_SIZE, out_features=512), nn.ReLU(),\n",
    "                          nn.Linear(in_features=512, out_features=256), nn.ReLU(),\n",
    "                          nn.Linear(in_features=256, out_features=128), nn.ReLU()]\n",
    "        self.encoder = nn.Sequential(*encoder_layers)\n",
    "        \n",
    "        decoder_layers = [nn.Linear(in_features=128, out_features=256), nn.ReLU(),\n",
    "                          nn.Linear(in_features=256, out_features=512), nn.ReLU(),\n",
    "                          nn.Linear(in_features=512, out_features=MNIST_SIZE*MNIST_SIZE), nn.ReLU()]\n",
    "        self.decoder = nn.Sequential(*decoder_layers)\n",
    "    \n",
    "    def forward(self, x):\n",
    "        return self.decoder(self.encoder(x))"
   ]
  },
  {
   "cell_type": "code",
   "execution_count": null,
   "metadata": {},
   "outputs": [],
   "source": [
    "def train():\n",
    "    # architecture\n",
    "    net = Autoencoder()\n",
    "    net = net.to(DEVICE)\n",
    "    \n",
    "    # loss and optimizer\n",
    "    criterion = nn.MSELoss()\n",
    "    optimizer = optim.Adam(net.parameters(), lr=LEARNING_RATE)\n",
    "\n",
    "    # training loop\n",
    "    train_loss = []\n",
    "    for epoch in range(NUM_EPOCHS):\n",
    "        running_loss = 0.0\n",
    "        for data in mnist_loader:\n",
    "            img, _ = data\n",
    "            img = img.to(DEVICE)\n",
    "            img = img.view(img.size(0), -1) # unravel image\n",
    "            optimizer.zero_grad()\n",
    "            outputs = net(img)\n",
    "            loss = criterion(outputs, img)\n",
    "            loss.backward()\n",
    "            optimizer.step()\n",
    "            running_loss += loss.item()\n",
    "        \n",
    "        loss = running_loss / len(mnist_loader)\n",
    "        train_loss.append(loss)\n",
    "        print('Epoch {} of {}, Train Loss: {:.3f}'.format(epoch+1, NUM_EPOCHS, loss))\n",
    "    return net\n"
   ]
  },
  {
   "cell_type": "code",
   "execution_count": null,
   "metadata": {},
   "outputs": [],
   "source": [
    "net = train()"
   ]
  },
  {
   "cell_type": "markdown",
   "metadata": {},
   "source": [
    "## Results EDA"
   ]
  },
  {
   "cell_type": "code",
   "execution_count": null,
   "metadata": {},
   "outputs": [],
   "source": [
    "import matplotlib.pyplot as plt"
   ]
  },
  {
   "cell_type": "code",
   "execution_count": null,
   "metadata": {},
   "outputs": [],
   "source": [
    "img, label = next(iter(mnist_loader))\n",
    "print(label)\n",
    "plt.imshow(img[0][0].cpu(), cmap='gray', interpolation='none')"
   ]
  },
  {
   "cell_type": "code",
   "execution_count": null,
   "metadata": {},
   "outputs": [],
   "source": [
    "img = img.to(DEVICE)\n",
    "img = img.view(img.size(0), -1)\n",
    "net.encoder(img)"
   ]
  },
  {
   "cell_type": "code",
   "execution_count": null,
   "metadata": {},
   "outputs": [],
   "source": [
    "img = img.to(DEVICE)\n",
    "img = img.view(img.size(0), -1)\n",
    "res = net(img).view(MNIST_SIZE, MNIST_SIZE)"
   ]
  },
  {
   "cell_type": "code",
   "execution_count": null,
   "metadata": {},
   "outputs": [],
   "source": [
    "plt.imshow(res.cpu().detach().numpy(), cmap='gray', interpolation='none')"
   ]
  }
 ],
 "metadata": {
  "kernelspec": {
   "display_name": "Python 3",
   "language": "python",
   "name": "python3"
  },
  "language_info": {
   "codemirror_mode": {
    "name": "ipython",
    "version": 3
   },
   "file_extension": ".py",
   "mimetype": "text/x-python",
   "name": "python",
   "nbconvert_exporter": "python",
   "pygments_lexer": "ipython3",
   "version": "3.7.6"
  }
 },
 "nbformat": 4,
 "nbformat_minor": 4
}
