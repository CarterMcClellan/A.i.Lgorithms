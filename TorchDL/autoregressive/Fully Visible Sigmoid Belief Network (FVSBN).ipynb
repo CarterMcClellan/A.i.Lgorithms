{
 "cells": [
  {
   "cell_type": "markdown",
   "metadata": {},
   "source": [
    "## Preamble (Optional)"
   ]
  },
  {
   "cell_type": "markdown",
   "metadata": {},
   "source": [
    "### Chain Rule\n",
    "Take any old distribution\n",
    "$$p(x_1, \\ldots, x_n)$$\n",
    "The chain rule states\n",
    "$$ p(x_1, \\ldots, x_n) = \\prod_{i=1}^n p(x_i ~|~ x_1, \\ldots, x_{i-1}) = \\prod_{i=1}^n p(x_i ~|~ x_{< i})$$\n",
    "The nifty thing about this is that we can use it to represent any possible distribution, as a table, for example consider representing the joint probability distribution of 2 bernoulli random variables\n",
    "$$\n",
    "\\begin{pmatrix}\n",
    "p(x_1 = 1) & p(x_1 = 0)\\\\\n",
    "p(x_2 = 1 | x_1 = 1) & p(x_2 = 1 | x_1 = 1) & p(x_2 = 0 | x_1 = 1) & p(x_2 = 0 | x_1 = 0)\n",
    "\\end{pmatrix}\n",
    "$$\n",
    "And immediately we see the problem, the table explodes at rate $d^n$, where $d$ is the number of possible values a random variable can have and $n$ is the number of random variables, but thats kinda close to what we want for a generator model. We want to learn some distribution of the training data, and to emulate that, so we want some discounted version of that table ^^, which doesn't take up so much space"
   ]
  },
  {
   "cell_type": "markdown",
   "metadata": {},
   "source": [
    "### Bernoulli Simplification\n",
    "Instead of filling out a table consider a function like this\n",
    "$$p_{\\theta_i}(x_i ~|~ x_{< i}) = Bern(f(x_{<i})$$\n",
    "Which maps the conditional distribution to some output between 0 and 1\n",
    "$$p_{\\theta_i}(x_i ~|~ x_{< i}) \\to Bern(f(x_{<i})) \\in \\{0, 1\\}$$"
   ]
  },
  {
   "cell_type": "markdown",
   "metadata": {},
   "source": [
    "### Imports and Dataloaders\n",
    "None of this is all that important its just getting the a dataset, and transforming the data to make it more ammenable to low compute resources"
   ]
  },
  {
   "cell_type": "code",
   "execution_count": 1,
   "metadata": {},
   "outputs": [],
   "source": [
    "import torch\n",
    "import torch.nn as nn\n",
    "import torchvision.datasets as datasets\n",
    "import torchvision.transforms as transforms\n",
    "import torch.optim as optim\n",
    "\n",
    "import numpy as np\n",
    "import matplotlib.pyplot as plt\n",
    "from barbar import Bar"
   ]
  },
  {
   "cell_type": "code",
   "execution_count": 2,
   "metadata": {},
   "outputs": [],
   "source": [
    "# we want the image values to be between 0 and 1, and we we want them to be tensors\n",
    "# resize the images to be 18 by 18 to make the generation process easier\n",
    "trans = transforms.Compose([transforms.Grayscale(), transforms.Resize((18,18)), transforms.ToTensor()])\n",
    "mnist_loader = torch.utils.data.DataLoader(datasets.MNIST(root='./data', train=True, download=True, \n",
    "                                                          transform=trans), shuffle=True)\n",
    "MNIST_SIZE = 18 \n",
    "device = torch.device(\"cuda:0\")"
   ]
  },
  {
   "cell_type": "code",
   "execution_count": 3,
   "metadata": {},
   "outputs": [
    {
     "data": {
      "text/plain": [
       "<matplotlib.image.AxesImage at 0x7f80228bc950>"
      ]
     },
     "execution_count": 3,
     "metadata": {},
     "output_type": "execute_result"
    },
    {
     "data": {
      "image/png": "[encoded data removed]",
      "text/plain": [
       "<Figure size 432x288 with 1 Axes>"
      ]
     },
     "metadata": {
      "needs_background": "light"
     },
     "output_type": "display_data"
    }
   ],
   "source": [
    "idx, (img, label) = next(enumerate(mnist_loader))\n",
    "plt.imshow(img[0][0], cmap='gray', interpolation='none')"
   ]
  },
  {
   "cell_type": "markdown",
   "metadata": {},
   "source": [
    "### Fully Visible Sigmoid Belief Network (FVSBN)\n",
    "Using the above **Bernoulli Simplification** choose, \n",
    "$$f(x_{x<i}) = \\sigma(\\alpha \\cdot x_1 + \\ldots + \\alpha \\cdot x_{i-1}) \\tag{1}$$\n",
    "Where\n",
    "$$\\sigma(x) = \\frac{1}{1 + e^{x}}$$\n",
    "\n",
    "### FVSBN in Practice\n",
    "Now lets apply this to MNIST. \n",
    "\n",
    "**Data Prep**\n",
    "\n",
    "Our method does not use convolution, it takes the input image as a vector\n",
    "$$\n",
    "\\begin{pmatrix}\n",
    "x_{1,1} & \\ldots & x_{1, 28}\\\\\n",
    "\\vdots & \\vdots & \\vdots \\\\\n",
    "x{28, 1} & \\ldots & x_{28, 28}\n",
    "\\end{pmatrix} \n",
    "\\to\n",
    "\\begin{pmatrix}\n",
    "x_{1,1} & \\ldots & x_{28, 28}\\\\\n",
    "\\end{pmatrix} \n",
    "$$\n",
    "Additionally our model is trying to predict if a pixel is 0 or 1, so the input vector is binarized\n",
    "\n",
    "**Generation**\n",
    "\n",
    "Our function \n",
    "$$f(x_{x<i}) = \\sigma(\\alpha \\cdot x_1 + \\ldots + \\alpha \\cdot x_{i-1})$$\n",
    "is supposed to predict the *ith* pixel as a result of the previous set of pixels (this is why the method is called *autoregressive*. \n",
    "\n",
    "Fitting a model to learn $\\alpha$ involves training $dim(image)^2$ linear layers in a neural net. The first layer predicting $pixel_{1,2}$, the last layer predicting $pixel_{28, 28}$. Note *what about the first pixel*. The first pixel has no prior and thus is chosen at random from the domain which in this case is just $\\{0, 1\\}$. Note that our function (1), returns the *probability* that a given pixel value 1, thus \n",
    "\n",
    "$$pixel_{i} = Bern(f(x_{x<i}))$$\n",
    "\n",
    "\n",
    "**Discrimination/ Loss**\n",
    "But how do you tell if the generated output is any good or not? The simplest course of action is to compute the log likelihood, that is, if our guess or generated output is $Bern(f(x_{x<i}))$, and the ground truth value, or the pixel value observed in that particular training image is $\\overline{\\text{pixel i}}$, then the log likelihood is\n",
    "$$\n",
    "\\text{log likelihood}(\\overline{\\text{pixel i}}) = \\overline{\\text{pixel i}} * \\log_e(Bern(f(x_{x<i})) + \\epsilon) + (1 - \\overline{\\text{pixel i}}) * \\log_e(1 - Bern(f(x_{x<i})) + \\epsilon)\n",
    "\\tag{2}\n",
    "$$\n",
    "\n",
    "So lets break down what (2) is doing and why we need $\\epsilon$.\n",
    "\n",
    "Our generator is either correct or not correct. So lets see what happens when its correct\n",
    "- (pixel i = 1, guess $\\approx$ 1) or (pixel i= 0, guess $\\approx$ 0). in either of these cases we return something which is pretty close to 0, which for loss means, hey we did a pretty good job with guessing that pixel\n",
    "\n",
    "When we are wrong though\n",
    "- (pixel i = 1, guess $\\not =$ 1) or (pixel i= 0, guess $\\not =$ 0) we get the opposite effect. The further our guess is away from being correct the smaller thing we are taking the logarithm of, which is where $\\epsilon$ comes into play. If we wanan make sure our $\\log_e$ doesn't spit out infinity we have to add an additionally small term onto to our guess to make it ever so slighly greater than 0.\n",
    "\n",
    "Now our loss at the moment is only being measured on a per pixel basis, we want to sum over all the pixels, giving a net loss looking something like \n",
    "$$\\sum_{i=2}^{\\text{dim(image)}} \\text{log likelihood}(\\overline{\\text{pixel i}}) \\tag{3}$$"
   ]
  },
  {
   "cell_type": "code",
   "execution_count": 28,
   "metadata": {},
   "outputs": [],
   "source": [
    "epsilon = torch.Tensor([1e-10]).to(device)\n",
    "def log_pmf(pixel_val, guess):\n",
    "    '''\n",
    "    equation (2) from above\n",
    "    \n",
    "    note that this takes the probability that a pixel is 1 (guess), not the pixel value itself\n",
    "    \n",
    "    pixel val is the ground truth value\n",
    "    '''\n",
    "    guess = guess.to(device)\n",
    "    return pixel_val * torch.log(guess + epsilon) + (1. - pixel_val) * torch.log(1. - guess + epsilon)"
   ]
  },
  {
   "cell_type": "code",
   "execution_count": 5,
   "metadata": {},
   "outputs": [],
   "source": [
    "class FVSBN(nn.Module):\n",
    "    def __init__(self):\n",
    "        super(FVSBN, self).__init__()\n",
    "        \n",
    "        # each of these layers represents the inner bit of equation (1)\n",
    "        layers = []\n",
    "        for i in range(1, MNIST_SIZE**2):\n",
    "            layers += [nn.Linear(i, 1)]\n",
    "        \n",
    "        self.models = nn.Sequential(*layers)\n",
    "        \n",
    "        # HACK (almost all the MNIST images have a first pixel \n",
    "        # value of 0)\n",
    "        self.x1 = torch.Tensor([0])\n",
    "    \n",
    "    def forward(self, image):\n",
    "        \n",
    "        # DATA PREP\n",
    "        # flatten out our image mat into a vector\n",
    "        image = image.view(-1, MNIST_SIZE**2)\n",
    "        # binarize our our image vector\n",
    "        image = torch.where(image < 0.5, torch.tensor(0.).to(device), torch.tensor(1.).to(device))\n",
    "        \n",
    "        # setting the first pixel\n",
    "        # we do this outside the loop because we have no weight matrix for it\n",
    "        probability = torch.sigmoid(self.x1)\n",
    "        logpx = log_pmf(image[:, 0:1], probability)\n",
    "        \n",
    "        # generating the rest of our pixels using our learned weights\n",
    "        # note:\n",
    "        #   next x represents using eq (1) - generating the ith pixel\n",
    "        #   predictated on pixels [0, i-1] (slicing in python is non inclusive thats why it says i)\n",
    "        \n",
    "        # then using eq (3) to calculate our loss on this image generation\n",
    "        for i in range(1, MNIST_SIZE**2):\n",
    "            next_x = torch.sigmoid(self.models[i-1](image[:, 0:i]))\n",
    "            logpx += log_pmf(image[:, i:i+1], next_x)\n",
    "        \n",
    "        return logpx\n",
    "    \n",
    "    def sample(self):\n",
    "        with torch.no_grad():\n",
    "            # always set our initial pixel to be 0\n",
    "            initial_pixel = self.x1\n",
    "            complete_image = torch.zeros(1, MNIST_SIZE**2, device=device)\n",
    "            complete_image[:, 0:1] = initial_pixel\n",
    "            \n",
    "            # as mentioned before, now that the model is fit\n",
    "            # to eq (1), we use this weights to guess the subsequent pixels\n",
    "            # only difference is there is no ground truth (its a made up image)\n",
    "            \n",
    "            # bernouilli(p) => return 1 with probability p, and return 0 with probability 1-p\n",
    "            for i in range(1, MNIST_SIZE**2):\n",
    "                ith_pixel_probability = torch.sigmoid(self.models[i-1](complete_image[:, 0:i]))\n",
    "                predicted_pixel = torch.bernoulli(ith_pixel_probability)\n",
    "                complete_image[:, i:i+1] = predicted_pixel\n",
    "        # reshape image back into a vector\n",
    "        return complete_image.view(18, 18)"
   ]
  },
  {
   "cell_type": "code",
   "execution_count": 29,
   "metadata": {},
   "outputs": [
    {
     "name": "stdout",
     "output_type": "stream",
     "text": [
      "The number of learnable parameters for this model being 52650\n"
     ]
    }
   ],
   "source": [
    "# the number of parameters of the first layer (for the second pixel) is only 1, the only weight is the first\n",
    "# pixel, for the second layers its 2, and so on and so forth, for the nth layer the number of parameters (alphas)\n",
    "# is equal to n-1\n",
    "\n",
    "# thus the number of learnable paramerters is 1 + 2 + ... + number of pixels in the image \n",
    "\n",
    "# +1 because range is not inclusive\n",
    "print(\"The number of learnable parameters for this model being {}\".format(sum(range(1, MNIST_SIZE**2 + 1))))"
   ]
  },
  {
   "cell_type": "markdown",
   "metadata": {},
   "source": [
    "### Training"
   ]
  },
  {
   "cell_type": "code",
   "execution_count": 7,
   "metadata": {},
   "outputs": [],
   "source": [
    "fvsbn = FVSBN()"
   ]
  },
  {
   "cell_type": "code",
   "execution_count": 12,
   "metadata": {},
   "outputs": [],
   "source": [
    "def train(net, device, trainloader, num_epochs=10):\n",
    "    net = net.to(device)\n",
    "    optimizer = optim.SGD(net.parameters(), lr=0.01, momentum=0.9)\n",
    "    img_list = []\n",
    "    \n",
    "    for epoch in range(num_epochs):  # loop over the dataset multiple times\n",
    "        running_loss = 0\n",
    "        for i, data in enumerate(Bar(trainloader)):\n",
    "            image, labels = data[0].to(device), data[1].to(device)\n",
    "\n",
    "            # zero the parameter gradients\n",
    "            optimizer.zero_grad()\n",
    "\n",
    "            # forward + backward + optimize\n",
    "            log_likelihood = fvsbn(image)\n",
    "            loss = -1 * log_likelihood\n",
    "            running_loss += loss\n",
    "            loss.backward()\n",
    "            optimizer.step()\n",
    "            \n",
    "            if i % 100 == 0:\n",
    "                sample_img = net.sample()\n",
    "                img_list.append(sample_img)\n",
    "            \n",
    "            if i == 1000:\n",
    "                break\n",
    "            \n",
    "    return net, img_list"
   ]
  },
  {
   "cell_type": "code",
   "execution_count": 13,
   "metadata": {},
   "outputs": [
    {
     "name": "stdout",
     "output_type": "stream",
     "text": [
      " 1001/60000: [>...............................] - ETA 8045.8s"
     ]
    }
   ],
   "source": [
    "finished_net, img_list = train(fvsbn, device, mnist_loader, 1)"
   ]
  },
  {
   "cell_type": "code",
   "execution_count": 27,
   "metadata": {},
   "outputs": [
    {
     "data": {
      "text/plain": [
       "<matplotlib.image.AxesImage at 0x7f7fdbee9710>"
      ]
     },
     "execution_count": 27,
     "metadata": {},
     "output_type": "execute_result"
    },
    {
     "data": {
      "image/png": "[encoded data removed]",
      "text/plain": [
       "<Figure size 432x288 with 1 Axes>"
      ]
     },
     "metadata": {
      "needs_background": "light"
     },
     "output_type": "display_data"
    }
   ],
   "source": [
    "plt.imshow(img_list[8].cpu(), cmap='gray', interpolation='none')"
   ]
  },
  {
   "cell_type": "markdown",
   "metadata": {},
   "source": [
    "### References\n",
    "- [Bayesian Networks @ Cal](https://inst.eecs.berkeley.edu/~cs188/sp12/slides/cs188%20lecture%2013%20and%2014%20--%20bayes%20nets%20representation%20and%20independence%202PP.pdf)\n",
    "- [Autoreggressive Models @ Stanford](https://deepgenerativemodels.github.io/assets/slides/cs236_lecture3.pdf)\n",
    "- [Keras Code](https://nbviewer.jupyter.org/github/ilguyi/generative.models.tensorflow.v2/blob/master/autoregressive/fvsbn.ipynb)"
   ]
  }
 ],
 "metadata": {
  "kernelspec": {
   "display_name": "Python 3",
   "language": "python",
   "name": "python3"
  },
  "language_info": {
   "codemirror_mode": {
    "name": "ipython",
    "version": 3
   },
   "file_extension": ".py",
   "mimetype": "text/x-python",
   "name": "python",
   "nbconvert_exporter": "python",
   "pygments_lexer": "ipython3",
   "version": "3.7.6"
  }
 },
 "nbformat": 4,
 "nbformat_minor": 2
}
