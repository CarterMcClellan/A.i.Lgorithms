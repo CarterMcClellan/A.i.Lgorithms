{
 "cells": [
  {
   "cell_type": "markdown",
   "metadata": {},
   "source": [
    "### Motivating a Simple Autoregressive Model\n",
    "Where did we leave off with the Histogram Model\n",
    "- It generalizes poorly\n",
    "- It doesn't work for higher dimensional data\n",
    "\n",
    "Conclusion. Rather than learn $p_{data}$, learn $p_\\theta$ a parameterized function which estimates class probabilities"
   ]
  },
  {
   "cell_type": "markdown",
   "metadata": {},
   "source": [
    "### Architecture Overview\n",
    "To fix a model which works for higher dimensional data, lets fit a model which learns $p(x_1, x_2)$, by learning $p(x_1)$, and $p(x_2 ~|~ x_1)$\n",
    "\n",
    "- $p(x_1)$ we already know how to estimate this using a histogram\n",
    "- $p(x_2 ~|~ x_1)$ we can estimate this using an MLP (mulit-layer perceptron), by feeding the output probabilities from the histogram as inputs"
   ]
  },
  {
   "cell_type": "markdown",
   "metadata": {},
   "source": [
    "### Imports"
   ]
  },
  {
   "cell_type": "code",
   "execution_count": 1,
   "metadata": {},
   "outputs": [],
   "source": [
    "# Standard Lib\n",
    "import io\n",
    "import itertools\n",
    "\n",
    "# Data Processing\n",
    "import numpy as np\n",
    "from PIL import Image\n",
    "from tqdm import tqdm\n",
    "    \n",
    "# Visualization\n",
    "import matplotlib.pyplot as plt\n",
    "\n",
    "# Torch Imports\n",
    "import torch\n",
    "import torch.nn as nn\n",
    "import torch.optim as optim\n",
    "import torch.utils.data as data\n",
    "import torch.nn.functional as F"
   ]
  },
  {
   "cell_type": "code",
   "execution_count": 2,
   "metadata": {},
   "outputs": [],
   "source": [
    "# GPU acceleration\n",
    "device = torch.device(\"cuda:0\")"
   ]
  },
  {
   "cell_type": "markdown",
   "metadata": {},
   "source": [
    "### Datasets\n",
    "Our proposed model is 2 dimensional, so lets start with a 2 dimensional dataset\n",
    "<img src='sample_data/smiley_grayscale.jpg' style=\"width: 100px;\">\n",
    "How does this translate into a probability distribution? One simple way would be to tie the probability of a given pixel to its intensity, eg.\n",
    "- Black Pixels = high probability\n",
    "- Gray Pixels = medium probability\n",
    "- White Pixels = low probability"
   ]
  },
  {
   "cell_type": "code",
   "execution_count": 3,
   "metadata": {},
   "outputs": [],
   "source": [
    "def simple_image(image_file, n, d):\n",
    "    im = Image.open(image_file).resize((d, d)).convert('L')\n",
    "    im = np.array(im).astype('float32')\n",
    "    dist = im / im.sum()\n",
    "\n",
    "    pairs = list(itertools.product(range(d), range(d)))\n",
    "    \n",
    "    # NOTE p=dist.reshape(-1), this means the probability of a pixel coordinate\n",
    "    # is tied to its intensity (as described above).\n",
    "    #\n",
    "    # Therefore, samples is a list of 10,000 pairs sampled from our 25x25 images,\n",
    "    # there will be pairs which occur more than once, and some pairs which appear \n",
    "    # zero times. All depending on the pixel intensity\n",
    "    idxs = np.random.choice(len(pairs), size=n, replace=True, p=dist.reshape(-1))\n",
    "    samples = [pairs[i] for i in idxs]\n",
    "\n",
    "    return dist, np.array(samples)\n",
    "\n",
    "simple_d = 25\n",
    "img, int_pairs = simple_image_dataset = simple_image('sample_data/smiley.jpg', 10000, simple_d)\n",
    "simple_data_loader = data.DataLoader(int_pairs, batch_size=128, shuffle=True)"
   ]
  },
  {
   "cell_type": "markdown",
   "metadata": {},
   "source": [
    "### Architecture"
   ]
  },
  {
   "cell_type": "code",
   "execution_count": 4,
   "metadata": {},
   "outputs": [],
   "source": [
    "class SimpleAutoregModel(nn.Module):\n",
    "    # Model p(x0)p(x1|x0), p(x0) as a histogram, p(x1|x0) as an MLP\n",
    "    def __init__(self, d):\n",
    "        super().__init__()\n",
    "        self.d = d\n",
    "        self.logits_x0 = nn.Parameter(torch.zeros(d), requires_grad=True)\n",
    "        self.cond_x1 = nn.Sequential(\n",
    "            nn.Linear(d, 50),\n",
    "            nn.ReLU(),\n",
    "            nn.Linear(50, 50),\n",
    "            nn.ReLU(),\n",
    "            nn.Linear(50, d)\n",
    "        )\n",
    "        \n",
    "    def to_one_hot(self, labels, device):\n",
    "        # idx, label should be converted to a \"1\"\n",
    "        # all other values along the indices should be \"0\"\n",
    "        # eg\n",
    "        #   labels = [0, 1], d = 2\n",
    "        # \n",
    "        #   to_one_hot(labels, d)\n",
    "        #   >>> [[1, 0], [0, 1]]\n",
    "        one_hot = torch.FloatTensor(labels.shape[0], self.d).to(device)\n",
    "        one_hot.zero_()\n",
    "        one_hot.scatter_(1, labels.unsqueeze(1), 1)\n",
    "        return one_hot\n",
    "    \n",
    "    def loss(self, x):\n",
    "        batch_size = x.shape[0]\n",
    "        x0, x1 = x[:, 0], x[:, 1],\n",
    "\n",
    "        # Loss for x0\n",
    "        logits_x0 = self.logits_x0.unsqueeze(0).repeat(batch_size, 1)\n",
    "        nll_x0 = F.cross_entropy(logits_x0, x0.long())\n",
    "\n",
    "        # Loss for x1 | x0\n",
    "        x0_onehot = self.to_one_hot(x0.long(), device) # use onehot as input\n",
    "        logits_x1 = self.cond_x1(x0_onehot)\n",
    "        nll_x1 = F.cross_entropy(logits_x1, x1.long())\n",
    "\n",
    "        return nll_x0 + nll_x1\n",
    "\n",
    "    def get_dist(self):\n",
    "        with torch.no_grad():\n",
    "            x0 = torch.arange(self.d).to(device)\n",
    "            x0 = self.to_one_hot(x0, device)\n",
    "\n",
    "            prob_x0 = F.softmax(self.logits_x0, dim=0).unsqueeze(1)\n",
    "            prob_x1 = F.softmax(self.cond_x1(x0), dim=1)\n",
    "            prob = prob_x0 * prob_x1\n",
    "            return prob.cpu().numpy()"
   ]
  },
  {
   "cell_type": "markdown",
   "metadata": {},
   "source": [
    "### Training"
   ]
  },
  {
   "cell_type": "code",
   "execution_count": 5,
   "metadata": {},
   "outputs": [],
   "source": [
    "def train(train_loader, d, num_epochs=100):\n",
    "    model = SimpleAutoregModel(d)\n",
    "    model = model.to(device)\n",
    "    \n",
    "    optimizer = optim.SGD(model.parameters(), lr=0.01, momentum=0.9)\n",
    "    \n",
    "    for epoch in tqdm(range(num_epochs), desc='Training model'):  # loop over the dataset multiple times\n",
    "        for i, data in enumerate(train_loader):\n",
    "            x = data.to(device)\n",
    "\n",
    "            # zero the parameter gradients\n",
    "            optimizer.zero_grad()\n",
    "\n",
    "            # forward + backward + optimize\n",
    "            loss = model.loss(x)\n",
    "            loss.backward()\n",
    "            optimizer.step()\n",
    "            \n",
    "            \n",
    "    return model"
   ]
  },
  {
   "cell_type": "code",
   "execution_count": 6,
   "metadata": {},
   "outputs": [
    {
     "name": "stderr",
     "output_type": "stream",
     "text": [
      "Training model: 100%|██████████| 100/100 [00:17<00:00,  5.77it/s]\n"
     ]
    }
   ],
   "source": [
    "trained_simple_model = train(simple_data_loader, 25)"
   ]
  },
  {
   "cell_type": "markdown",
   "metadata": {},
   "source": [
    "### Visualization"
   ]
  },
  {
   "cell_type": "code",
   "execution_count": 8,
   "metadata": {},
   "outputs": [],
   "source": [
    "img_dist = trained_simple_model.get_dist()"
   ]
  },
  {
   "cell_type": "code",
   "execution_count": 9,
   "metadata": {},
   "outputs": [
    {
     "data": {
      "text/plain": [
       "<matplotlib.image.AxesImage at 0x7f8ffed22590>"
      ]
     },
     "execution_count": 9,
     "metadata": {},
     "output_type": "execute_result"
    },
    {
     "data": {
      "image/png": "[encoded data removed]",
      "text/plain": [
       "<Figure size 432x288 with 1 Axes>"
      ]
     },
     "metadata": {
      "needs_background": "light"
     },
     "output_type": "display_data"
    }
   ],
   "source": [
    "plt.imshow(img_dist) # WORKS!"
   ]
  }
 ],
 "metadata": {
  "kernelspec": {
   "display_name": "Python 3",
   "language": "python",
   "name": "python3"
  },
  "language_info": {
   "codemirror_mode": {
    "name": "ipython",
    "version": 3
   },
   "file_extension": ".py",
   "mimetype": "text/x-python",
   "name": "python",
   "nbconvert_exporter": "python",
   "pygments_lexer": "ipython3",
   "version": "3.7.6"
  }
 },
 "nbformat": 4,
 "nbformat_minor": 2
}
