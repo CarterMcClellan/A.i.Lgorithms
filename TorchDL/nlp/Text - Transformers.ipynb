{
 "cells": [
  {
   "cell_type": "markdown",
   "metadata": {},
   "source": [
    "### RNN Background\n",
    "To motivate a Transformers we need to first review a Vanilla RNN. \n",
    "$$\n",
    "h_t = \\tanh\\left( W \\cdot \\begin{bmatrix} h_{t-1} \\\\ x \\end{bmatrix}\\right)\n",
    "$$\n",
    "\n",
    "$$\n",
    "y_t = \\text{LogSoftmax}\\left( W \\cdot \\begin{bmatrix} h_{t} \\\\ x \\end{bmatrix}\\right)\n",
    "$$"
   ]
  },
  {
   "cell_type": "markdown",
   "metadata": {},
   "source": [
    "```python\n",
    "class VanillaRNN(nn.Module):\n",
    "    def __init__(self, input_size, hidden_size, output_size):\n",
    "        # super so we inherit methods from nn.Module\n",
    "        super(VanillaRNN, self).__init__() \n",
    "\n",
    "        self.hidden_size = hidden_size\n",
    "\n",
    "        self.i2h = nn.Linear(input_size + hidden_size, hidden_size)\n",
    "        self.i2o = nn.Linear(input_size + hidden_size, output_size)\n",
    "        self.softmax = nn.LogSoftmax(dim=1)\n",
    "\n",
    "    def forward(self, x, hidden):\n",
    "        # stack tensors on top of each other\n",
    "        combined = torch.cat((x, hidden), 1)\n",
    "        \n",
    "        # update hidden\n",
    "        #   hidden = tanh(input @ self.Wxh +  hidden @ self.Whh + self.bh)\n",
    "        #\n",
    "        # note: \n",
    "        #   all outputs between -1 and 1\n",
    "        hidden = nn.tanh(self.i2h(combined))\n",
    "        \n",
    "        # update output\n",
    "        #   output = hidden @ self.Why + self.by\n",
    "        combined = torch.cat((x, hidden), 1)\n",
    "        output = self.i2o(combined)\n",
    "        \n",
    "        # compute output probabilities\n",
    "        output = self.softmax(output)\n",
    "        return output, hidden\n",
    "\n",
    "    def initHidden(self):\n",
    "        return torch.zeros(1, self.hidden_size)\n",
    "```"
   ]
  },
  {
   "cell_type": "code",
   "execution_count": null,
   "metadata": {},
   "outputs": [],
   "source": []
  }
 ],
 "metadata": {
  "kernelspec": {
   "display_name": "Python 3",
   "language": "python",
   "name": "python3"
  },
  "language_info": {
   "codemirror_mode": {
    "name": "ipython",
    "version": 3
   },
   "file_extension": ".py",
   "mimetype": "text/x-python",
   "name": "python",
   "nbconvert_exporter": "python",
   "pygments_lexer": "ipython3",
   "version": "3.7.6"
  }
 },
 "nbformat": 4,
 "nbformat_minor": 2
}
