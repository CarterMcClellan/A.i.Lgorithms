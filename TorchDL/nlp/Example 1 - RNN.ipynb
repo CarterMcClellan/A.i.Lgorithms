{
 "cells": [
  {
   "cell_type": "code",
   "execution_count": 1,
   "metadata": {},
   "outputs": [],
   "source": [
    "# Visualization\n",
    "import matplotlib.pyplot as plt\n",
    "\n",
    "# data processing\n",
    "import numpy as np\n",
    "from tqdm import tqdm\n",
    "\n",
    "# Torch Imports\n",
    "import torch\n",
    "import torch.nn as nn\n",
    "import torch.optim as optim\n",
    "import torch.utils.data as data\n",
    "import torch.nn.functional as F\n",
    "\n",
    "# Torchvision Imports\n",
    "import torchvision.datasets as datasets\n",
    "import torchvision.transforms as transforms\n",
    "from torchvision.utils import make_grid"
   ]
  },
  {
   "cell_type": "markdown",
   "metadata": {},
   "source": [
    "### RNN Formulation\n",
    "$$\n",
    "h_t = \\tanh\\left( W \\cdot \\begin{bmatrix} h_{t-1} \\\\ x \\end{bmatrix}\\right)\n",
    "$$\n",
    "\n",
    "$$\n",
    "y_t =  W \\cdot \\begin{bmatrix} h_{t} \\\\ x \\end{bmatrix}\n",
    "$$"
   ]
  },
  {
   "cell_type": "code",
   "execution_count": 2,
   "metadata": {},
   "outputs": [],
   "source": [
    "class VanillaRNN(nn.Module):\n",
    "    def __init__(self, input_size, hidden_size, output_size):\n",
    "        # super so we inherit methods from nn.Module\n",
    "        super(VanillaRNN, self).__init__() \n",
    "\n",
    "        self.hidden_size = hidden_size\n",
    "\n",
    "        self.i2h = nn.Linear(input_size + hidden_size, hidden_size)\n",
    "        self.i2o = nn.Linear(input_size + hidden_size, output_size)\n",
    "\n",
    "    def forward(self, x, hidden):\n",
    "        # stack tensors on top of each other\n",
    "        combined = torch.cat((x, hidden), 1)\n",
    "        \n",
    "        # update hidden\n",
    "        #   hidden = tanh(input @ self.Wxh +  hidden @ self.Whh + self.bh)\n",
    "        #\n",
    "        # note: \n",
    "        #   all outputs between -1 and 1\n",
    "        hidden = nn.tanh(self.i2h(combined))\n",
    "        \n",
    "        # update output\n",
    "        #   output = hidden @ self.Why + self.by\n",
    "        combined = torch.cat((x, hidden), 1)\n",
    "        output = self.i2o(combined)\n",
    "        \n",
    "        return output, hidden\n",
    "\n",
    "    def initHidden(self):\n",
    "        return torch.zeros(1, self.hidden_size)"
   ]
  },
  {
   "cell_type": "markdown",
   "metadata": {},
   "source": [
    "### Why Tanh?\n",
    "The vanishing gradient problem is the main problem in RNN. Also, to keep the gradient in the linear region of the activation function, we need a function whose second derivative can sustain for a long range before going to zero. Tanh is pretty good with these properties."
   ]
  },
  {
   "cell_type": "markdown",
   "metadata": {},
   "source": [
    "### Demo \n",
    "TODO, we need to make some cute/ little/ temporal demo here"
   ]
  },
  {
   "cell_type": "markdown",
   "metadata": {},
   "source": [
    "### Vanishing Gradient Demo"
   ]
  },
  {
   "cell_type": "markdown",
   "metadata": {},
   "source": [
    "### Exploding Gradient Demo"
   ]
  }
 ],
 "metadata": {
  "kernelspec": {
   "display_name": "Python 3",
   "language": "python",
   "name": "python3"
  },
  "language_info": {
   "codemirror_mode": {
    "name": "ipython",
    "version": 3
   },
   "file_extension": ".py",
   "mimetype": "text/x-python",
   "name": "python",
   "nbconvert_exporter": "python",
   "pygments_lexer": "ipython3",
   "version": "3.7.6"
  }
 },
 "nbformat": 4,
 "nbformat_minor": 2
}
