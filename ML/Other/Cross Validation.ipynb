{
 "cells": [
  {
   "cell_type": "markdown",
   "metadata": {},
   "source": [
    "### Cross Validation"
   ]
  },
  {
   "cell_type": "code",
   "execution_count": 1,
   "metadata": {},
   "outputs": [],
   "source": [
    "import pandas as pd\n",
    "import numpy as np"
   ]
  },
  {
   "cell_type": "code",
   "execution_count": 2,
   "metadata": {},
   "outputs": [],
   "source": [
    "X = pd.read_csv('face_emotion_data_X.csv', header=None).values\n",
    "y = pd.read_csv('face_emotion_data_Y.csv', header=None).values"
   ]
  },
  {
   "cell_type": "code",
   "execution_count": 3,
   "metadata": {},
   "outputs": [
    {
     "name": "stdout",
     "output_type": "stream",
     "text": [
      "Matrix dims  (128, 9)\n",
      "Data rank  9\n"
     ]
    }
   ],
   "source": [
    "print(\"Matrix dims \", X.shape)\n",
    "print(\"Data rank \", np.linalg.matrix_rank(X))"
   ]
  },
  {
   "cell_type": "code",
   "execution_count": 4,
   "metadata": {},
   "outputs": [
    {
     "name": "stdout",
     "output_type": "stream",
     "text": [
      "(a)\n",
      " [[ 0.9436607 ]\n",
      " [ 0.21371856]\n",
      " [ 0.26645167]\n",
      " [-0.39222786]\n",
      " [-0.005383  ]\n",
      " [-0.0176492 ]\n",
      " [-0.16633001]\n",
      " [-0.08227486]\n",
      " [-0.16644555]]\n"
     ]
    }
   ],
   "source": [
    "def lstsq(A, b):\n",
    "    return np.linalg.inv(A.transpose().dot(A)).dot(A.transpose()).dot(b)# (A^T*A)^-1 * A^T * b\n",
    "\n",
    "W = lstsq(X, y)\n",
    "print(\"(a)\\n\", W)"
   ]
  },
  {
   "cell_type": "code",
   "execution_count": 5,
   "metadata": {},
   "outputs": [
    {
     "name": "stdout",
     "output_type": "stream",
     "text": [
      "Residual mean  -0.0781256361274\n"
     ]
    }
   ],
   "source": [
    "resid = X.dot(W) - y\n",
    "print(\"Residual mean \", resid.mean())"
   ]
  },
  {
   "cell_type": "code",
   "execution_count": 6,
   "metadata": {},
   "outputs": [
    {
     "name": "stdout",
     "output_type": "stream",
     "text": [
      "(e i)\n",
      "Error of prediction matrix 0.0234375\n"
     ]
    }
   ],
   "source": [
    "predictions = [1 if i > 0 else -1 for i in X.dot(W)]\n",
    "print(\"(e i)\\nError of prediction matrix\", \n",
    "      1-sum([1 if i > 0 else 0 for i in (y.ravel() == predictions)]) / len(y))"
   ]
  },
  {
   "cell_type": "code",
   "execution_count": 7,
   "metadata": {},
   "outputs": [
    {
     "name": "stdout",
     "output_type": "stream",
     "text": [
      "(e ii)\n",
      "Error rate of new prediction matrix 0.0859375\n"
     ]
    }
   ],
   "source": [
    "new_w = [[ 0.9436607 ],[0],[ 0.26645167],[-0.39222786],[0],[0],[0],[0],[0]]\n",
    "new_predictions =  [1 if i > 0 else -1 for i in X.dot(new_w)]\n",
    "print(\"(e ii)\\nError rate of new prediction matrix\", \n",
    "      1-sum([1 if i > 0 else 0 for i in (y.ravel() == new_predictions)]) / len(y))"
   ]
  },
  {
   "cell_type": "code",
   "execution_count": 8,
   "metadata": {},
   "outputs": [
    {
     "name": "stdout",
     "output_type": "stream",
     "text": [
      "(f)\n",
      "avg error rate  0.046875\n"
     ]
    }
   ],
   "source": [
    "x_splits = np.split(X, 8)\n",
    "y_splits = np.split(y, 8)\n",
    "error_rate = []\n",
    "for i in range(0,8):\n",
    "    x_train = x_splits.copy()\n",
    "    x_train.pop(i)\n",
    "    x_test = x_splits[i]\n",
    "    \n",
    "    y_train = y_splits.copy()\n",
    "    y_train.pop(i)\n",
    "    y_test = y_splits[i]\n",
    "    \n",
    "    x_temp = np.matrix(np.concatenate(x_train))\n",
    "    y_temp = np.matrix(np.concatenate(y_train))\n",
    "    \n",
    "    # compute w\n",
    "    w_temp = lstsq(x_temp, y_temp)\n",
    "    \n",
    "    # test error rate\n",
    "    new_predictions =  [1 if i > 0 else -1 for i in x_test.dot(w_temp)]\n",
    "    error_rate.append(1-sum([1 if i == True else 0 for i in (np.array(y_test).ravel() == new_predictions)]) /\n",
    "                      len(y_test))\n",
    "\n",
    "print(\"(f)\\navg error rate \", sum(error_rate)/len(error_rate))"
   ]
  }
 ],
 "metadata": {
  "kernelspec": {
   "display_name": "Python 3",
   "language": "python",
   "name": "python3"
  },
  "language_info": {
   "codemirror_mode": {
    "name": "ipython",
    "version": 3
   },
   "file_extension": ".py",
   "mimetype": "text/x-python",
   "name": "python",
   "nbconvert_exporter": "python",
   "pygments_lexer": "ipython3",
   "version": "3.6.5"
  }
 },
 "nbformat": 4,
 "nbformat_minor": 2
}
