{
 "cells": [
  {
   "cell_type": "code",
   "execution_count": 1,
   "metadata": {},
   "outputs": [],
   "source": [
    "import pandas as pd\n",
    "import numpy as np\n",
    "from sklearn.model_selection import train_test_split"
   ]
  },
  {
   "cell_type": "code",
   "execution_count": 2,
   "metadata": {},
   "outputs": [],
   "source": [
    "X = pd.read_csv('face_emotion_data_X.csv', header=None).values\n",
    "y = pd.read_csv('face_emotion_data_Y.csv', header=None).values\n",
    "\n",
    "rand = 1100"
   ]
  },
  {
   "cell_type": "markdown",
   "metadata": {},
   "source": [
    "### Truncated SVD \n",
    "\n",
    "Truncated SVD solution. Use the pseudo-inverse V Σ−1UT , where Σ−1 is com- puted by inverting the k largest singular values and setting others to zero. Here, k is the regularization parameter and it takes values k = 1, 2, . . . , 9; i.e., compute 9 different solutions, wk."
   ]
  },
  {
   "cell_type": "code",
   "execution_count": 3,
   "metadata": {},
   "outputs": [],
   "source": [
    "def svd_reg_lstsq(A, b, k):\n",
    "    [u, s, vt] = np.linalg.svd(A)\n",
    "    rank = np.linalg.matrix_rank(A)\n",
    "    \n",
    "    sigma = np.zeros((rank, rank))\n",
    "    np.fill_diagonal(sigma, s)\n",
    "    \n",
    "    gamma  = np.zeros((rank, rank))\n",
    "    np.fill_diagonal(gamma, s[:k])\n",
    "    \n",
    "    middle = sigma @ np.linalg.inv(sigma**2 + gamma)\n",
    "\n",
    "    return u @ middle @ vt[:rank, :] @ b\n"
   ]
  },
  {
   "cell_type": "code",
   "execution_count": 4,
   "metadata": {},
   "outputs": [
    {
     "data": {
      "text/plain": [
       "0.875"
      ]
     },
     "execution_count": 4,
     "metadata": {},
     "output_type": "execute_result"
    }
   ],
   "source": [
    "def truncated_regularized_lstsq(X, y):\n",
    "    # hold weights for each k\n",
    "    wi = []\n",
    "    error_rate = []\n",
    "    \n",
    "    X_train, X_test, y_train, y_test = train_test_split(X, y, train_size = 30, test_size=.25, random_state=rand)\n",
    "    X_val, X_test, y_val, y_test = train_test_split(X_test, y_test, train_size= 30, test_size=0.5, random_state=rand)\n",
    "    \n",
    "    # training\n",
    "    for k in range(1, 9):\n",
    "        w_temp = svd_reg_lstsq(X_train.T, y_train, k)\n",
    "    \n",
    "        wi.append(w_temp)\n",
    "        \n",
    "        \n",
    "    # validation\n",
    "    for i in range(0,8):\n",
    "        new_predictions =  [0 if i < .5 else 1 if i < 1.5 else 2 for i in (X_val @ wi[i])]\n",
    "        error_rate.append(1-sum([1 if i == True else 0 for i in (np.array(y_val).ravel() == new_predictions)]) /\n",
    "                          len(y_val))\n",
    "    \n",
    "    # test result\n",
    "    best_k = error_rate.index(min(error_rate))\n",
    "    new_predictions =  [0 if i < .5 else 1 if i < 1.5 else 2 for i in X_test.dot(wi[best_k])]\n",
    "    \n",
    "    \n",
    "    return 1-sum([1 if i == True else 0 for i in (np.array(y_val).ravel() == new_predictions)]) / len(y_test)\n",
    "\n",
    "truncated_regularized_lstsq(X, y)"
   ]
  },
  {
   "cell_type": "markdown",
   "metadata": {},
   "source": [
    "### Regularised SVD\n",
    "\n",
    "Regularized LS. Let w􏰀λ = arg minw ∥y − Xw∥2 + λ∥w∥2, for the following values of the regularization parameter λ = 0,2−1,20,21,22,23, and 24. Show that w􏰀λ can be computed using the SVD and use this fact in your code."
   ]
  },
  {
   "cell_type": "code",
   "execution_count": 5,
   "metadata": {},
   "outputs": [],
   "source": [
    "def reg_lstsq(A, b, gamma):\n",
    "    num_rows, num_cols = A.shape\n",
    "    \n",
    "     # (A^T*A + gamma*I)^-1 * A^T * b\n",
    "    g  = np.zeros((num_cols, num_cols))\n",
    "    np.fill_diagonal(g, gamma)\n",
    "    return np.linalg.inv(A.transpose().dot(A) + g).dot(A.transpose()).dot(b)"
   ]
  },
  {
   "cell_type": "code",
   "execution_count": 6,
   "metadata": {},
   "outputs": [
    {
     "data": {
      "text/plain": [
       "0.9375"
      ]
     },
     "execution_count": 6,
     "metadata": {},
     "output_type": "execute_result"
    }
   ],
   "source": [
    "def regularized_svd(X, y):\n",
    "    # hold weights for each k\n",
    "    gamma = [0, 1/2, 1, 4, 8, 16]\n",
    "    \n",
    "    wi = []\n",
    "    error_rate = []\n",
    "    \n",
    "    X_train, X_test, y_train, y_test = train_test_split(X, y, train_size = .75, test_size=.25)\n",
    "    X_val, X_test, y_val, y_test = train_test_split(X_test, y_test, train_size=0.5, test_size=0.5)\n",
    "    \n",
    "    # training\n",
    "    for g in gamma:\n",
    "        w_temp = reg_lstsq(X_train, y_train, g)\n",
    "    \n",
    "        wi.append(w_temp)\n",
    "    \n",
    "    # validation\n",
    "    for w in wi:\n",
    "        new_predictions =  [0 if i < .5 else 1 if i < 1.5 else 2 for i in X_val.dot(w)]\n",
    "        error_rate.append(1-sum([1 if i == True else 0 for i in (np.array(y_val).ravel() == new_predictions)]) /\n",
    "                          len(y_val))\n",
    "    \n",
    "    # test result\n",
    "    best_w = error_rate.index(min(error_rate))\n",
    "    new_predictions =  [0 if i < .5 else 1 if i < 1.5 else 2 for i in X_test.dot(wi[best_w])]\n",
    "    \n",
    "    \n",
    "    return 1-sum([1 if i == True else 0 for i in (np.array(y_val).ravel() == new_predictions)]) / len(y_test)\n",
    "regularized_svd(X, y)"
   ]
  }
 ],
 "metadata": {
  "kernelspec": {
   "display_name": "Python 3",
   "language": "python",
   "name": "python3"
  },
  "language_info": {
   "codemirror_mode": {
    "name": "ipython",
    "version": 3
   },
   "file_extension": ".py",
   "mimetype": "text/x-python",
   "name": "python",
   "nbconvert_exporter": "python",
   "pygments_lexer": "ipython3",
   "version": "3.6.5"
  }
 },
 "nbformat": 4,
 "nbformat_minor": 2
}
