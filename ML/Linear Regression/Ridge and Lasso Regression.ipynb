{
 "cells": [
  {
   "cell_type": "markdown",
   "metadata": {},
   "source": [
    "### Homework 8\n",
    "**1) Data Fitting vs. Sparsity Tradeof**"
   ]
  },
  {
   "cell_type": "code",
   "execution_count": 1,
   "metadata": {},
   "outputs": [],
   "source": [
    "import scipy.io as sio\n",
    "import numpy as np\n",
    "\n",
    "import matplotlib.pyplot as plt\n",
    "\n",
    "from sklearn.model_selection import train_test_split\n",
    "from sklearn.linear_model import ElasticNet\n",
    "rand = 1100"
   ]
  },
  {
   "cell_type": "code",
   "execution_count": 2,
   "metadata": {},
   "outputs": [],
   "source": [
    "mat_contents = sio.loadmat('BreastCancer.mat')\n",
    "X = mat_contents['X']\n",
    "y = mat_contents['y']\n",
    "\n",
    "train = X[:100, :]\n",
    "train_labels = y[:100, :]\n",
    "\n",
    "test = X[100:, :]\n",
    "test_labels = y[100:, :]"
   ]
  },
  {
   "cell_type": "code",
   "execution_count": 128,
   "metadata": {},
   "outputs": [],
   "source": [
    "X = np.random.rand(10,1000)\n",
    "y = np.random.rand(10,1000)"
   ]
  },
  {
   "cell_type": "code",
   "execution_count": null,
   "metadata": {},
   "outputs": [
    {
     "name": "stdout",
     "output_type": "stream",
     "text": [
      "57.97862777541715\n"
     ]
    }
   ],
   "source": [
    "regr = ElasticNet(random_state=0)\n",
    "regr.fit(X, y)\n",
    "# print(regr.coef_)\n",
    "print(np.linalg.norm(y - X@regr.coef_))\n",
    "\n",
    "coef = lasso(X,y, 1)\n",
    "print(np.linalg.norm(y - X@coef))\n",
    "\n",
    "coef = ridge(X,y, 1)\n",
    "print(np.linalg.norm(y - X@coef))"
   ]
  },
  {
   "cell_type": "code",
   "execution_count": 10,
   "metadata": {},
   "outputs": [],
   "source": [
    "def ridge(A, b, gamma):\n",
    "    num_rows, num_cols = A.shape\n",
    "    \n",
    "     # (A^T*A + gamma*I)^-1 * A^T * b\n",
    "    g  = np.zeros((num_cols, num_cols))\n",
    "    np.fill_diagonal(g, gamma)\n",
    "    return np.linalg.inv(A.T @ A + g) @ A.T @ b"
   ]
  },
  {
   "cell_type": "code",
   "execution_count": 6,
   "metadata": {},
   "outputs": [],
   "source": [
    "norm = lambda x: np.linalg.norm(x)\n",
    "def lasso(A, b, gamma):\n",
    "    max_iter = int(1e6)\n",
    "    tol = 1e-5\n",
    "    \n",
    "    tau = 1/norm(A)**2\n",
    "    \n",
    "    _, cols = A.shape\n",
    "    \n",
    "    w = np.zeros((cols, 1))\n",
    "    \n",
    "    for i in range(1, max_iter):\n",
    "        z = w - tau*(A.T @ (A @ w - b))\n",
    "        w_old = w\n",
    "        w = np.sign(z)*np.maximum(np.absolute(z) - tau*gamma/2, 0)\n",
    "        if norm(w - w_old) < tol:\n",
    "            break\n",
    "    return w"
   ]
  },
  {
   "cell_type": "code",
   "execution_count": 35,
   "metadata": {},
   "outputs": [
    {
     "data": {
      "text/plain": [
       "array([[0.        ],\n",
       "       [0.49910629]])"
      ]
     },
     "execution_count": 35,
     "metadata": {},
     "output_type": "execute_result"
    }
   ],
   "source": [
    "lasso(X, y, .1)"
   ]
  },
  {
   "cell_type": "markdown",
   "metadata": {},
   "source": [
    "#### Initial Training"
   ]
  },
  {
   "cell_type": "code",
   "execution_count": null,
   "metadata": {},
   "outputs": [],
   "source": [
    "gamma_test = [100, 10, 1, .05, .00001]\n",
    "results = []\n",
    "\n",
    "l2_norm = lambda x: np.linalg.norm(x, 2)\n",
    "for g in gamma_test:\n",
    "    results.append(lasso(train, train_labels, g))\n",
    "    print(g)"
   ]
  },
  {
   "cell_type": "code",
   "execution_count": null,
   "metadata": {},
   "outputs": [],
   "source": [
    "resid = []\n",
    "w_norm = []\n",
    "l1_norm = lambda x: np.linalg.norm(x, ord=1)\n",
    "results = np.asarray(results)\n",
    "for r in results:\n",
    "    y_approx = train @ r\n",
    "    w_norm.append(np.linalg.norm((r), ord=1))\n",
    "    resid.append(l2_norm(train_labels - y_approx))"
   ]
  },
  {
   "cell_type": "markdown",
   "metadata": {},
   "source": [
    "#### Training Plot"
   ]
  },
  {
   "cell_type": "code",
   "execution_count": null,
   "metadata": {},
   "outputs": [],
   "source": [
    "plt.scatter(resid, w_norm)"
   ]
  },
  {
   "cell_type": "markdown",
   "metadata": {},
   "source": [
    "#### Validation Training"
   ]
  },
  {
   "cell_type": "code",
   "execution_count": null,
   "metadata": {},
   "outputs": [],
   "source": [
    "gamma_test = [100, 10, 1, .05, .00001]\n",
    "results = []\n",
    "\n",
    "l2_norm = lambda x: np.linalg.norm(x, 2)\n",
    "for g in gamma_test:\n",
    "    results.append(lasso(test, test_labels, g))\n",
    "    print(g)"
   ]
  },
  {
   "cell_type": "code",
   "execution_count": null,
   "metadata": {},
   "outputs": [],
   "source": [
    "results[0].shape"
   ]
  },
  {
   "cell_type": "code",
   "execution_count": null,
   "metadata": {},
   "outputs": [],
   "source": [
    "resid = []\n",
    "w_norm = []\n",
    "l1_norm = lambda x: np.linalg.norm(x, ord=1)\n",
    "results = np.asarray(results)\n",
    "for r in results:\n",
    "    y_approx = test @ r\n",
    "    w_norm.append(np.linalg.norm((r), ord=1))\n",
    "    resid.append(l2_norm(test_labels - y_approx))"
   ]
  },
  {
   "cell_type": "markdown",
   "metadata": {},
   "source": [
    "#### Validation Plot"
   ]
  },
  {
   "cell_type": "code",
   "execution_count": null,
   "metadata": {},
   "outputs": [],
   "source": [
    "plt.scatter(resid, w_norm)"
   ]
  },
  {
   "cell_type": "markdown",
   "metadata": {},
   "source": [
    "#### Lasso vs Ridge"
   ]
  },
  {
   "cell_type": "code",
   "execution_count": null,
   "metadata": {},
   "outputs": [],
   "source": [
    "def ridge(A, b, gamma):\n",
    "    _, num_cols = A.shape\n",
    "    \n",
    "     # (A^T*A + gamma*I)^-1 * A^T * b\n",
    "    g  = np.zeros((num_cols, num_cols))\n",
    "    np.fill_diagonal(g, gamma)\n",
    "    # return np.linalg.inv(A.transpose().dot(A) + g).dot(A.transpose()).dot(b)\n",
    "    return np.linalg.inv(A.T @ A + g)@ A.T @ b"
   ]
  },
  {
   "cell_type": "markdown",
   "metadata": {},
   "source": [
    "#### Cross Validation"
   ]
  },
  {
   "cell_type": "code",
   "execution_count": null,
   "metadata": {},
   "outputs": [],
   "source": [
    "def ridge_error(w, test, y):\n",
    "    return np.linalg.norm(y - test@w) \n",
    "\n",
    "def cross_validation(X_test, y_test):\n",
    "    error_lasso = []\n",
    "    error_ridge = []\n",
    "    \n",
    "    ridge_ws = []\n",
    "    lasso_ws = []\n",
    "\n",
    "    gamma = [.05, .001, .005, .00001, .00005, 1e-5, 5e-5, 1e-6]\n",
    "    \n",
    "    for i, g in enumerate(gamma):\n",
    "        if i <= 5:\n",
    "            X_1, X_test, y_1, y_test = train_test_split(X_test, y_test, train_size = 30, random_state=rand)\n",
    "        else:\n",
    "            X_1, X_test, y_1, y_test = train_test_split(X_test, y_test, train_size = 29, random_state=rand)\n",
    "        \n",
    "        ridge_w = np.asarray(ridge(X_1, y_1, g))\n",
    "        lasso_w = np.asarray(lasso(X_1, y_1, g))\n",
    "        \n",
    "        ridge_ws.append(ridge_w)\n",
    "        lasso_ws.append(lasso_w)\n",
    "        print(i)\n",
    "     \n",
    "    X_valid, X_test, y_valid, y_test = train_test_split(X_test, y_test, train_size = 29, random_state=rand) \n",
    "    \n",
    "    best_ridge_error = ridge_error(ridge_ws[0], X_valid, y_valid)\n",
    "    best_lasso_error = ridge_error(lasso_ws[0], X_valid, y_valid)\n",
    "    best_ridge_w = ridge_ws[0]\n",
    "    best_lasso_w = lasso_ws[0]\n",
    "    for i in range(1, len(gamma)):\n",
    "        ridge_error_1 = ridge_error(ridge_ws[i], X_valid, y_valid)\n",
    "        lasso_error_1 = ridge_error(lasso_ws[i], X_valid, y_valid)\n",
    "        \n",
    "        if ridge_error_1 < best_ridge_error:\n",
    "            best_ridge_w = ridge_ws[i]\n",
    "            best_ridge_error = ridge_error_1\n",
    "        \n",
    "        if lasso_error_1 < best_lasso_error:\n",
    "            best_lasso_w = lasso_ws[i]\n",
    "            best_lasso_error = lasso_error_1\n",
    "            \n",
    "    return best_lasso_w, best_lasso_error, best_ridge_w, best_ridge_error, X_test, y_test"
   ]
  },
  {
   "cell_type": "code",
   "execution_count": null,
   "metadata": {},
   "outputs": [],
   "source": [
    "lasso_w, lasso_error, ridge_w, ridge_error, X_test, y_test = cross_validation(X, y)"
   ]
  },
  {
   "cell_type": "code",
   "execution_count": null,
   "metadata": {},
   "outputs": [],
   "source": [
    "def classification_error(w, test, y):\n",
    "    y_hat = test@w\n",
    "    signs = np.sign(y_hat)\n",
    "    correct_classifcation_percentage = np.sum(np.equal(signs, y))/len(y)\n",
    "    residual_error = resid_error(w, test, y)\n",
    "    return correct_classifcation_percentage, residual_error\n",
    "\n",
    "def resid_error(w, test, y):\n",
    "    return np.linalg.norm(y - test@w) "
   ]
  },
  {
   "cell_type": "code",
   "execution_count": null,
   "metadata": {},
   "outputs": [],
   "source": [
    "lasso_classification_error, lasso_residual = classification_error(lasso_w, X_test, y_test)\n",
    "ridge_classification_error, ridge_residual = classification_error(ridge_w, X_test, y_test)"
   ]
  },
  {
   "cell_type": "code",
   "execution_count": null,
   "metadata": {},
   "outputs": [],
   "source": [
    "print(\"Lasso classification error \", lasso_classification_error, \" Ridge classification Error \", ridge_classification_error)\n",
    "print(\"Lasso residual \", lasso_classification_error, \" Ridge residual \", ridge_classification_error)"
   ]
  }
 ],
 "metadata": {
  "kernelspec": {
   "display_name": "Python 3",
   "language": "python",
   "name": "python3"
  },
  "language_info": {
   "codemirror_mode": {
    "name": "ipython",
    "version": 3
   },
   "file_extension": ".py",
   "mimetype": "text/x-python",
   "name": "python",
   "nbconvert_exporter": "python",
   "pygments_lexer": "ipython3",
   "version": "3.7.6"
  }
 },
 "nbformat": 4,
 "nbformat_minor": 2
}
